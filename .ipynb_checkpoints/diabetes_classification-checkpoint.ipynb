{
 "cells": [
  {
   "cell_type": "markdown",
   "metadata": {
    "colab_type": "text",
    "id": "view-in-github"
   },
   "source": [
    "<a href=\"https://colab.research.google.com/github/munakaghamelu/diabetes-classification/blob/master/diabetes_classification.ipynb\" target=\"_parent\"><img src=\"https://colab.research.google.com/assets/colab-badge.svg\" alt=\"Open In Colab\"/></a>"
   ]
  },
  {
   "cell_type": "code",
   "execution_count": null,
   "metadata": {
    "colab": {},
    "colab_type": "code",
    "id": "lIYdn1woOS1n"
   },
   "outputs": [],
   "source": [
    "import pandas as pd\n",
    "import numpy as np\n",
    "from sklearn import preprocessing\n",
    "import matplotlib.pyplot as plt\n",
    "plt.rc(\"font\", size=14)\n",
    "from sklearn.linear_model import LogisticRegression\n",
    "from sklearn.model_selection import train_test_split\n",
    "import seaborn as sns\n",
    "sns.set(style=\"white\")\n",
    "sns.set(style=\"whitegrid\", color_codes=True)"
   ]
  },
  {
   "cell_type": "code",
   "execution_count": null,
   "metadata": {
    "colab": {},
    "colab_type": "code",
    "id": "Fzz1e5b7BRGt"
   },
   "outputs": [],
   "source": []
  },
  {
   "cell_type": "code",
   "execution_count": null,
   "metadata": {
    "colab": {
     "base_uri": "https://localhost:8080/",
     "height": 72
    },
    "colab_type": "code",
    "id": "lFnskyxdaozP",
    "outputId": "c26d0041-31bd-45ed-e4ca-3f1ceb6c01f2"
   },
   "outputs": [
    {
     "name": "stdout",
     "output_type": "stream",
     "text": [
      "(520, 17)\n",
      "['Age', 'Gender', 'Polyuria', 'Polydipsia', 'sudden weight loss', 'weakness', 'Polyphagia', 'Genital thrush', 'visual blurring', 'Itching', 'Irritability', 'delayed healing', 'partial paresis', 'muscle stiffness', 'Alopecia', 'Obesity', 'y']\n"
     ]
    }
   ],
   "source": [
    "# Loading the data and removing any null attributes\n",
    "\n",
    "#My dataset had a column called 'class' so I changed it to 'y'\n",
    "data = pd.read_csv('https://diabetes-data-mka.s3.eu-west-2.amazonaws.com/diabetes_data_upload.csv', header=0)\n",
    "data = data.dropna()\n",
    "# Gives the shape of the panda array, (rows, cols) returned\n",
    "print(data.shape)\n",
    "print(list(data.columns))"
   ]
  },
  {
   "cell_type": "code",
   "execution_count": null,
   "metadata": {
    "colab": {
     "base_uri": "https://localhost:8080/",
     "height": 261
    },
    "colab_type": "code",
    "id": "Kz2-FteATyvp",
    "outputId": "c6db0af2-d799-482f-d896-4fabb63dc358"
   },
   "outputs": [
    {
     "data": {
      "text/html": [
       "<div>\n",
       "<style scoped>\n",
       "    .dataframe tbody tr th:only-of-type {\n",
       "        vertical-align: middle;\n",
       "    }\n",
       "\n",
       "    .dataframe tbody tr th {\n",
       "        vertical-align: top;\n",
       "    }\n",
       "\n",
       "    .dataframe thead th {\n",
       "        text-align: right;\n",
       "    }\n",
       "</style>\n",
       "<table border=\"1\" class=\"dataframe\">\n",
       "  <thead>\n",
       "    <tr style=\"text-align: right;\">\n",
       "      <th></th>\n",
       "      <th>Age</th>\n",
       "      <th>Gender</th>\n",
       "      <th>Polyuria</th>\n",
       "      <th>Polydipsia</th>\n",
       "      <th>sudden weight loss</th>\n",
       "      <th>weakness</th>\n",
       "      <th>Polyphagia</th>\n",
       "      <th>Genital thrush</th>\n",
       "      <th>visual blurring</th>\n",
       "      <th>Itching</th>\n",
       "      <th>Irritability</th>\n",
       "      <th>delayed healing</th>\n",
       "      <th>partial paresis</th>\n",
       "      <th>muscle stiffness</th>\n",
       "      <th>Alopecia</th>\n",
       "      <th>Obesity</th>\n",
       "      <th>y</th>\n",
       "    </tr>\n",
       "  </thead>\n",
       "  <tbody>\n",
       "    <tr>\n",
       "      <th>0</th>\n",
       "      <td>40</td>\n",
       "      <td>Male</td>\n",
       "      <td>No</td>\n",
       "      <td>Yes</td>\n",
       "      <td>No</td>\n",
       "      <td>Yes</td>\n",
       "      <td>No</td>\n",
       "      <td>No</td>\n",
       "      <td>No</td>\n",
       "      <td>Yes</td>\n",
       "      <td>No</td>\n",
       "      <td>Yes</td>\n",
       "      <td>No</td>\n",
       "      <td>Yes</td>\n",
       "      <td>Yes</td>\n",
       "      <td>Yes</td>\n",
       "      <td>Positive</td>\n",
       "    </tr>\n",
       "    <tr>\n",
       "      <th>1</th>\n",
       "      <td>58</td>\n",
       "      <td>Male</td>\n",
       "      <td>No</td>\n",
       "      <td>No</td>\n",
       "      <td>No</td>\n",
       "      <td>Yes</td>\n",
       "      <td>No</td>\n",
       "      <td>No</td>\n",
       "      <td>Yes</td>\n",
       "      <td>No</td>\n",
       "      <td>No</td>\n",
       "      <td>No</td>\n",
       "      <td>Yes</td>\n",
       "      <td>No</td>\n",
       "      <td>Yes</td>\n",
       "      <td>No</td>\n",
       "      <td>Positive</td>\n",
       "    </tr>\n",
       "    <tr>\n",
       "      <th>2</th>\n",
       "      <td>41</td>\n",
       "      <td>Male</td>\n",
       "      <td>Yes</td>\n",
       "      <td>No</td>\n",
       "      <td>No</td>\n",
       "      <td>Yes</td>\n",
       "      <td>Yes</td>\n",
       "      <td>No</td>\n",
       "      <td>No</td>\n",
       "      <td>Yes</td>\n",
       "      <td>No</td>\n",
       "      <td>Yes</td>\n",
       "      <td>No</td>\n",
       "      <td>Yes</td>\n",
       "      <td>Yes</td>\n",
       "      <td>No</td>\n",
       "      <td>Positive</td>\n",
       "    </tr>\n",
       "    <tr>\n",
       "      <th>3</th>\n",
       "      <td>45</td>\n",
       "      <td>Male</td>\n",
       "      <td>No</td>\n",
       "      <td>No</td>\n",
       "      <td>Yes</td>\n",
       "      <td>Yes</td>\n",
       "      <td>Yes</td>\n",
       "      <td>Yes</td>\n",
       "      <td>No</td>\n",
       "      <td>Yes</td>\n",
       "      <td>No</td>\n",
       "      <td>Yes</td>\n",
       "      <td>No</td>\n",
       "      <td>No</td>\n",
       "      <td>No</td>\n",
       "      <td>No</td>\n",
       "      <td>Positive</td>\n",
       "    </tr>\n",
       "    <tr>\n",
       "      <th>4</th>\n",
       "      <td>60</td>\n",
       "      <td>Male</td>\n",
       "      <td>Yes</td>\n",
       "      <td>Yes</td>\n",
       "      <td>Yes</td>\n",
       "      <td>Yes</td>\n",
       "      <td>Yes</td>\n",
       "      <td>No</td>\n",
       "      <td>Yes</td>\n",
       "      <td>Yes</td>\n",
       "      <td>Yes</td>\n",
       "      <td>Yes</td>\n",
       "      <td>Yes</td>\n",
       "      <td>Yes</td>\n",
       "      <td>Yes</td>\n",
       "      <td>Yes</td>\n",
       "      <td>Positive</td>\n",
       "    </tr>\n",
       "  </tbody>\n",
       "</table>\n",
       "</div>"
      ],
      "text/plain": [
       "   Age Gender Polyuria Polydipsia  ... muscle stiffness Alopecia Obesity         y\n",
       "0   40   Male       No        Yes  ...              Yes      Yes     Yes  Positive\n",
       "1   58   Male       No         No  ...               No      Yes      No  Positive\n",
       "2   41   Male      Yes         No  ...              Yes      Yes      No  Positive\n",
       "3   45   Male       No         No  ...               No       No      No  Positive\n",
       "4   60   Male      Yes        Yes  ...              Yes      Yes     Yes  Positive\n",
       "\n",
       "[5 rows x 17 columns]"
      ]
     },
     "execution_count": 16,
     "metadata": {
      "tags": []
     },
     "output_type": "execute_result"
    }
   ],
   "source": [
    "# Show the first 5 elements in the dataset\n",
    "data.head()"
   ]
  },
  {
   "cell_type": "code",
   "execution_count": null,
   "metadata": {
    "colab": {},
    "colab_type": "code",
    "id": "QbJ128TUUc7h"
   },
   "outputs": [],
   "source": [
    "# Luckily our dataset does not have any attributes with too many columns, so I don't need to reduce it"
   ]
  },
  {
   "cell_type": "code",
   "execution_count": null,
   "metadata": {
    "colab": {
     "base_uri": "https://localhost:8080/",
     "height": 302
    },
    "colab_type": "code",
    "id": "QB8s7QrpUp3j",
    "outputId": "bd71adaa-898e-46f8-b2f7-ea3970f4d16c"
   },
   "outputs": [
    {
     "data": {
      "image/png": "[encoded data removed]",
      "text/plain": [
       "<Figure size 432x288 with 1 Axes>"
      ]
     },
     "metadata": {
      "tags": []
     },
     "output_type": "display_data"
    },
    {
     "data": {
      "text/plain": [
       "<Figure size 432x288 with 0 Axes>"
      ]
     },
     "metadata": {
      "tags": []
     },
     "output_type": "display_data"
    }
   ],
   "source": [
    "# Data Exploration, class is our y variable so we need to see the distribution of +ve and -ve results\n",
    "data['y'].value_counts()\n",
    "sns.countplot(x='y', data=data, palette='hls')\n",
    "plt.show()\n",
    "plt.savefig('count_plot')"
   ]
  },
  {
   "cell_type": "markdown",
   "metadata": {
    "colab_type": "text",
    "id": "SayvzD_zVIOB"
   },
   "source": [
    "As you can see the number of people who are positive with diabeters is almost double that of negative, so our dataset is imbalanced. Must do something to balance this data out!"
   ]
  },
  {
   "cell_type": "code",
   "execution_count": null,
   "metadata": {
    "colab": {},
    "colab_type": "code",
    "id": "mcqW76UvI23R"
   },
   "outputs": [],
   "source": [
    "# Convert the 'positive' to 1 and 'negative' to 0\n",
    "data.y.replace(('Positive', 'Negative'), (1, 0), inplace=True) #converting the data so its binary\n",
    "data.head()"
   ]
  },
  {
   "cell_type": "code",
   "execution_count": null,
   "metadata": {
    "colab": {},
    "colab_type": "code",
    "id": "wQb5zMCJWbdd"
   },
   "outputs": [],
   "source": [
    "# Changing the 'Yes' to 1\n",
    "data.replace('Yes', 1, inplace=True)"
   ]
  },
  {
   "cell_type": "code",
   "execution_count": null,
   "metadata": {
    "colab": {},
    "colab_type": "code",
    "id": "HDrTW5WBI7zN"
   },
   "outputs": [],
   "source": [
    "data.replace('No', 0, inplace=True)"
   ]
  },
  {
   "cell_type": "code",
   "execution_count": null,
   "metadata": {
    "colab": {
     "base_uri": "https://localhost:8080/",
     "height": 261
    },
    "colab_type": "code",
    "id": "m1b_yinqJDXb",
    "outputId": "98de2937-c44f-4f05-9c68-7b7b8e142652"
   },
   "outputs": [
    {
     "data": {
      "text/html": [
       "<div>\n",
       "<style scoped>\n",
       "    .dataframe tbody tr th:only-of-type {\n",
       "        vertical-align: middle;\n",
       "    }\n",
       "\n",
       "    .dataframe tbody tr th {\n",
       "        vertical-align: top;\n",
       "    }\n",
       "\n",
       "    .dataframe thead th {\n",
       "        text-align: right;\n",
       "    }\n",
       "</style>\n",
       "<table border=\"1\" class=\"dataframe\">\n",
       "  <thead>\n",
       "    <tr style=\"text-align: right;\">\n",
       "      <th></th>\n",
       "      <th>Age</th>\n",
       "      <th>Gender</th>\n",
       "      <th>Polyuria</th>\n",
       "      <th>Polydipsia</th>\n",
       "      <th>sudden weight loss</th>\n",
       "      <th>weakness</th>\n",
       "      <th>Polyphagia</th>\n",
       "      <th>Genital thrush</th>\n",
       "      <th>visual blurring</th>\n",
       "      <th>Itching</th>\n",
       "      <th>Irritability</th>\n",
       "      <th>delayed healing</th>\n",
       "      <th>partial paresis</th>\n",
       "      <th>muscle stiffness</th>\n",
       "      <th>Alopecia</th>\n",
       "      <th>Obesity</th>\n",
       "      <th>y</th>\n",
       "    </tr>\n",
       "  </thead>\n",
       "  <tbody>\n",
       "    <tr>\n",
       "      <th>0</th>\n",
       "      <td>40</td>\n",
       "      <td>Male</td>\n",
       "      <td>0</td>\n",
       "      <td>1</td>\n",
       "      <td>0</td>\n",
       "      <td>1</td>\n",
       "      <td>0</td>\n",
       "      <td>0</td>\n",
       "      <td>0</td>\n",
       "      <td>1</td>\n",
       "      <td>0</td>\n",
       "      <td>1</td>\n",
       "      <td>0</td>\n",
       "      <td>1</td>\n",
       "      <td>1</td>\n",
       "      <td>1</td>\n",
       "      <td>1</td>\n",
       "    </tr>\n",
       "    <tr>\n",
       "      <th>1</th>\n",
       "      <td>58</td>\n",
       "      <td>Male</td>\n",
       "      <td>0</td>\n",
       "      <td>0</td>\n",
       "      <td>0</td>\n",
       "      <td>1</td>\n",
       "      <td>0</td>\n",
       "      <td>0</td>\n",
       "      <td>1</td>\n",
       "      <td>0</td>\n",
       "      <td>0</td>\n",
       "      <td>0</td>\n",
       "      <td>1</td>\n",
       "      <td>0</td>\n",
       "      <td>1</td>\n",
       "      <td>0</td>\n",
       "      <td>1</td>\n",
       "    </tr>\n",
       "    <tr>\n",
       "      <th>2</th>\n",
       "      <td>41</td>\n",
       "      <td>Male</td>\n",
       "      <td>1</td>\n",
       "      <td>0</td>\n",
       "      <td>0</td>\n",
       "      <td>1</td>\n",
       "      <td>1</td>\n",
       "      <td>0</td>\n",
       "      <td>0</td>\n",
       "      <td>1</td>\n",
       "      <td>0</td>\n",
       "      <td>1</td>\n",
       "      <td>0</td>\n",
       "      <td>1</td>\n",
       "      <td>1</td>\n",
       "      <td>0</td>\n",
       "      <td>1</td>\n",
       "    </tr>\n",
       "    <tr>\n",
       "      <th>3</th>\n",
       "      <td>45</td>\n",
       "      <td>Male</td>\n",
       "      <td>0</td>\n",
       "      <td>0</td>\n",
       "      <td>1</td>\n",
       "      <td>1</td>\n",
       "      <td>1</td>\n",
       "      <td>1</td>\n",
       "      <td>0</td>\n",
       "      <td>1</td>\n",
       "      <td>0</td>\n",
       "      <td>1</td>\n",
       "      <td>0</td>\n",
       "      <td>0</td>\n",
       "      <td>0</td>\n",
       "      <td>0</td>\n",
       "      <td>1</td>\n",
       "    </tr>\n",
       "    <tr>\n",
       "      <th>4</th>\n",
       "      <td>60</td>\n",
       "      <td>Male</td>\n",
       "      <td>1</td>\n",
       "      <td>1</td>\n",
       "      <td>1</td>\n",
       "      <td>1</td>\n",
       "      <td>1</td>\n",
       "      <td>0</td>\n",
       "      <td>1</td>\n",
       "      <td>1</td>\n",
       "      <td>1</td>\n",
       "      <td>1</td>\n",
       "      <td>1</td>\n",
       "      <td>1</td>\n",
       "      <td>1</td>\n",
       "      <td>1</td>\n",
       "      <td>1</td>\n",
       "    </tr>\n",
       "  </tbody>\n",
       "</table>\n",
       "</div>"
      ],
      "text/plain": [
       "   Age Gender  Polyuria  Polydipsia  ...  muscle stiffness  Alopecia  Obesity  y\n",
       "0   40   Male         0           1  ...                 1         1        1  1\n",
       "1   58   Male         0           0  ...                 0         1        0  1\n",
       "2   41   Male         1           0  ...                 1         1        0  1\n",
       "3   45   Male         0           0  ...                 0         0        0  1\n",
       "4   60   Male         1           1  ...                 1         1        1  1\n",
       "\n",
       "[5 rows x 17 columns]"
      ]
     },
     "execution_count": 23,
     "metadata": {
      "tags": []
     },
     "output_type": "execute_result"
    }
   ],
   "source": [
    "data.head()"
   ]
  },
  {
   "cell_type": "code",
   "execution_count": null,
   "metadata": {
    "colab": {
     "base_uri": "https://localhost:8080/",
     "height": 52
    },
    "colab_type": "code",
    "id": "wUtiJCvuVRaI",
    "outputId": "5ab8afef-d05e-4204-e3c2-9b2b93f2b9b4"
   },
   "outputs": [
    {
     "name": "stdout",
     "output_type": "stream",
     "text": [
      "Percentage of people without diabetes is 38.46153846153847\n",
      "Percentage of diabetics 61.53846153846154\n"
     ]
    }
   ],
   "source": [
    "count_none_diab = len(data[data['y']==0])\n",
    "count_diab = len(data[data['y']==1])\n",
    "perc_of_none_diab = count_none_diab/(count_none_diab + count_diab)\n",
    "print(\"Percentage of people without diabetes is\", perc_of_none_diab*100)\n",
    "perc_of_diab = count_diab/(count_none_diab + count_diab)\n",
    "print(\"Percentage of diabetics\", perc_of_diab*100)"
   ]
  },
  {
   "cell_type": "markdown",
   "metadata": {
    "colab_type": "text",
    "id": "tEocoLshaw48"
   },
   "source": [
    "Ratio of diabetics to none diabetics is 61:38"
   ]
  },
  {
   "cell_type": "code",
   "execution_count": null,
   "metadata": {
    "colab": {
     "base_uri": "https://localhost:8080/",
     "height": 198
    },
    "colab_type": "code",
    "id": "XYoQz59ib2fH",
    "outputId": "94770f11-ee8e-4cf9-e1cf-a6826fa6c395"
   },
   "outputs": [
    {
     "data": {
      "text/html": [
       "<div>\n",
       "<style scoped>\n",
       "    .dataframe tbody tr th:only-of-type {\n",
       "        vertical-align: middle;\n",
       "    }\n",
       "\n",
       "    .dataframe tbody tr th {\n",
       "        vertical-align: top;\n",
       "    }\n",
       "\n",
       "    .dataframe thead th {\n",
       "        text-align: right;\n",
       "    }\n",
       "</style>\n",
       "<table border=\"1\" class=\"dataframe\">\n",
       "  <thead>\n",
       "    <tr style=\"text-align: right;\">\n",
       "      <th></th>\n",
       "      <th>Age</th>\n",
       "      <th>Polyuria</th>\n",
       "      <th>Polydipsia</th>\n",
       "      <th>sudden weight loss</th>\n",
       "      <th>weakness</th>\n",
       "      <th>Polyphagia</th>\n",
       "      <th>Genital thrush</th>\n",
       "      <th>visual blurring</th>\n",
       "      <th>Itching</th>\n",
       "      <th>Irritability</th>\n",
       "      <th>delayed healing</th>\n",
       "      <th>partial paresis</th>\n",
       "      <th>muscle stiffness</th>\n",
       "      <th>Alopecia</th>\n",
       "      <th>Obesity</th>\n",
       "    </tr>\n",
       "    <tr>\n",
       "      <th>y</th>\n",
       "      <th></th>\n",
       "      <th></th>\n",
       "      <th></th>\n",
       "      <th></th>\n",
       "      <th></th>\n",
       "      <th></th>\n",
       "      <th></th>\n",
       "      <th></th>\n",
       "      <th></th>\n",
       "      <th></th>\n",
       "      <th></th>\n",
       "      <th></th>\n",
       "      <th></th>\n",
       "      <th></th>\n",
       "      <th></th>\n",
       "    </tr>\n",
       "  </thead>\n",
       "  <tbody>\n",
       "    <tr>\n",
       "      <th>0</th>\n",
       "      <td>46.360000</td>\n",
       "      <td>0.075000</td>\n",
       "      <td>0.040000</td>\n",
       "      <td>0.1450</td>\n",
       "      <td>0.43500</td>\n",
       "      <td>0.240000</td>\n",
       "      <td>0.165000</td>\n",
       "      <td>0.290000</td>\n",
       "      <td>0.49500</td>\n",
       "      <td>0.08000</td>\n",
       "      <td>0.430000</td>\n",
       "      <td>0.16</td>\n",
       "      <td>0.300000</td>\n",
       "      <td>0.50500</td>\n",
       "      <td>0.135000</td>\n",
       "    </tr>\n",
       "    <tr>\n",
       "      <th>1</th>\n",
       "      <td>49.071875</td>\n",
       "      <td>0.759375</td>\n",
       "      <td>0.703125</td>\n",
       "      <td>0.5875</td>\n",
       "      <td>0.68125</td>\n",
       "      <td>0.590625</td>\n",
       "      <td>0.259375</td>\n",
       "      <td>0.546875</td>\n",
       "      <td>0.48125</td>\n",
       "      <td>0.34375</td>\n",
       "      <td>0.478125</td>\n",
       "      <td>0.60</td>\n",
       "      <td>0.421875</td>\n",
       "      <td>0.24375</td>\n",
       "      <td>0.190625</td>\n",
       "    </tr>\n",
       "  </tbody>\n",
       "</table>\n",
       "</div>"
      ],
      "text/plain": [
       "         Age  Polyuria  Polydipsia  ...  muscle stiffness  Alopecia   Obesity\n",
       "y                                   ...                                      \n",
       "0  46.360000  0.075000    0.040000  ...          0.300000   0.50500  0.135000\n",
       "1  49.071875  0.759375    0.703125  ...          0.421875   0.24375  0.190625\n",
       "\n",
       "[2 rows x 15 columns]"
      ]
     },
     "execution_count": 24,
     "metadata": {
      "tags": []
     },
     "output_type": "execute_result"
    }
   ],
   "source": [
    "# Data exploration\n",
    "# Our classes are imbalances, the ratio of no-subscription to subscription is 89:11, before we balance we need to do more exploration\n",
    "\n",
    "data.groupby('y').mean()"
   ]
  },
  {
   "cell_type": "markdown",
   "metadata": {
    "colab_type": "text",
    "id": "tYxljjHVbdl9"
   },
   "source": [
    "Observations:\n",
    "- The average age of patients with Diabetes is only higher than patients who don't\n",
    "- Weirdly number of people with Alopecia are higher for people without diabetes, possible that this is not a factor of diabetes\n"
   ]
  },
  {
   "cell_type": "code",
   "execution_count": null,
   "metadata": {
    "colab": {
     "base_uri": "https://localhost:8080/",
     "height": 52
    },
    "colab_type": "code",
    "id": "_DtPXlXoc74S",
    "outputId": "963b1dae-f986-42cc-9bb5-0114b75274f4"
   },
   "outputs": [
    {
     "name": "stdout",
     "output_type": "stream",
     "text": [
      "percentage of no subscription is 38.46153846153847\n",
      "percentage of subscription 61.53846153846154\n"
     ]
    }
   ],
   "source": [
    "count_no_sub = len(data[data['y']==0])\n",
    "count_sub = len(data[data['y']==1])\n",
    "percentage_of_no_sub = count_no_sub/(count_no_sub+count_sub)\n",
    "print(\"percentage of no subscription is\", percentage_of_no_sub*100)\n",
    "percentage_of_no_sub = count_sub/(count_no_sub+count_sub)\n",
    "print(\"percentage of subscription\", percentage_of_no_sub*100)"
   ]
  },
  {
   "cell_type": "code",
   "execution_count": null,
   "metadata": {
    "colab": {
     "base_uri": "https://localhost:8080/",
     "height": 104
    },
    "colab_type": "code",
    "id": "p8tdbyYvLyYj",
    "outputId": "21591be7-c9f4-4c22-8975-2cfa901d680b"
   },
   "outputs": [
    {
     "name": "stdout",
     "output_type": "stream",
     "text": [
      "Index(['Age', 'Gender', 'Polyuria', 'Polydipsia', 'WeightLoss', 'weakness',\n",
      "       'Polyphagia', 'GenitalThrush', 'VisualBlurring', 'Itching',\n",
      "       'Irritability', 'DelayedHealing', 'PartialParesis', 'MuscleStiffness',\n",
      "       'Alopecia', 'Obesity', 'y'],\n",
      "      dtype='object')\n"
     ]
    }
   ],
   "source": [
    "data.rename(columns={'sudden weight loss': 'WeightLoss', 'Genital thrush': 'GenitalThrush', 'visual blurring': 'VisualBlurring', 'delayed healing': 'DelayedHealing', 'partial paresis': 'PartialParesis', 'muscle stiffness': 'MuscleStiffness'}, inplace=True)\n",
    "\n",
    "print(data.columns)"
   ]
  },
  {
   "cell_type": "code",
   "execution_count": null,
   "metadata": {
    "colab": {
     "base_uri": "https://localhost:8080/",
     "height": 1000
    },
    "colab_type": "code",
    "id": "RO65ma0hTe6m",
    "outputId": "c1ac0d99-71a5-43f5-f2ba-6e05ea9dae4c"
   },
   "outputs": [
    {
     "data": {
      "image/png": "[encoded data removed]",
      "text/plain": [
       "<Figure size 432x288 with 1 Axes>"
      ]
     },
     "metadata": {
      "needs_background": "dark",
      "tags": []
     },
     "output_type": "display_data"
    },
    {
     "data": {
      "image/png": "[encoded data removed]",
      "text/plain": [
       "<Figure size 432x288 with 1 Axes>"
      ]
     },
     "metadata": {
      "needs_background": "dark",
      "tags": []
     },
     "output_type": "display_data"
    },
    {
     "data": {
      "image/png": "[encoded data removed]",
      "text/plain": [
       "<Figure size 432x288 with 1 Axes>"
      ]
     },
     "metadata": {
      "needs_background": "dark",
      "tags": []
     },
     "output_type": "display_data"
    },
    {
     "data": {
      "image/png": "[encoded data removed]",
      "text/plain": [
       "<Figure size 432x288 with 1 Axes>"
      ]
     },
     "metadata": {
      "needs_background": "dark",
      "tags": []
     },
     "output_type": "display_data"
    },
    {
     "data": {
      "image/png": "[encoded data removed]",
      "text/plain": [
       "<Figure size 432x288 with 1 Axes>"
      ]
     },
     "metadata": {
      "needs_background": "dark",
      "tags": []
     },
     "output_type": "display_data"
    },
    {
     "data": {
      "image/png": "[encoded data removed]",
      "text/plain": [
       "<Figure size 432x288 with 1 Axes>"
      ]
     },
     "metadata": {
      "needs_background": "dark",
      "tags": []
     },
     "output_type": "display_data"
    },
    {
     "data": {
      "image/png": "[encoded data removed]",
      "text/plain": [
       "<Figure size 432x288 with 1 Axes>"
      ]
     },
     "metadata": {
      "needs_background": "dark",
      "tags": []
     },
     "output_type": "display_data"
    },
    {
     "data": {
      "image/png": "[encoded data removed]",
      "text/plain": [
       "<Figure size 432x288 with 1 Axes>"
      ]
     },
     "metadata": {
      "needs_background": "dark",
      "tags": []
     },
     "output_type": "display_data"
    },
    {
     "data": {
      "image/png": "[encoded data removed]",
      "text/plain": [
       "<Figure size 432x288 with 1 Axes>"
      ]
     },
     "metadata": {
      "needs_background": "dark",
      "tags": []
     },
     "output_type": "display_data"
    },
    {
     "data": {
      "image/png": "[encoded data removed]",
      "text/plain": [
       "<Figure size 432x288 with 1 Axes>"
      ]
     },
     "metadata": {
      "needs_background": "dark",
      "tags": []
     },
     "output_type": "display_data"
    },
    {
     "data": {
      "image/png": "[encoded data removed]",
      "text/plain": [
       "<Figure size 432x288 with 1 Axes>"
      ]
     },
     "metadata": {
      "needs_background": "dark",
      "tags": []
     },
     "output_type": "display_data"
    },
    {
     "data": {
      "image/png": "[encoded data removed]",
      "text/plain": [
       "<Figure size 432x288 with 1 Axes>"
      ]
     },
     "metadata": {
      "needs_background": "dark",
      "tags": []
     },
     "output_type": "display_data"
    },
    {
     "data": {
      "image/png": "[encoded data removed]",
      "text/plain": [
       "<Figure size 432x288 with 1 Axes>"
      ]
     },
     "metadata": {
      "needs_background": "dark",
      "tags": []
     },
     "output_type": "display_data"
    },
    {
     "data": {
      "image/png": "[encoded data removed]",
      "text/plain": [
       "<Figure size 432x288 with 1 Axes>"
      ]
     },
     "metadata": {
      "needs_background": "dark",
      "tags": []
     },
     "output_type": "display_data"
    },
    {
     "data": {
      "image/png": "[encoded data removed]",
      "text/plain": [
       "<Figure size 432x288 with 1 Axes>"
      ]
     },
     "metadata": {
      "needs_background": "dark",
      "tags": []
     },
     "output_type": "display_data"
    },
    {
     "data": {
      "image/png": "[encoded data removed]",
      "text/plain": [
       "<Figure size 432x288 with 1 Axes>"
      ]
     },
     "metadata": {
      "needs_background": "dark",
      "tags": []
     },
     "output_type": "display_data"
    }
   ],
   "source": [
    "# Visualizations\n",
    "%matplotlib inline\n",
    "# Age - Not a good indicator, too many categories, maybe join to age groups?\n",
    "pd.crosstab(data.Age,data.y).plot(kind='bar') # 1 - use pandas to determine the type of table, with x and y axis\n",
    "plt.title('Age and Diabetes').set_color('white') # 2 - plot the title\n",
    "plt.xlabel('Age').set_color('white') # 3 - Plot the x label\n",
    "plt.ylabel('Frequency of Diabetics').set_color('white') # 4 - Plot the y label\n",
    "plt.savefig('diabetics_age') # 5 - Save the figure so it can be referenced later\n",
    "#plt.axhline(color='white') change colour of the axis line\n",
    "plt.tick_params(axis='x', colors='white') # ticks is what you call the labels\n",
    "plt.tick_params(axis='y', colors='white')\n",
    "\n",
    "# Gender\n",
    "pd.crosstab(data.Gender,data.y).plot(kind='bar') # 1 - use pandas to determine the type of table, with x and y axis\n",
    "plt.title('Gender and Diabetes').set_color('white') # 2 - plot the title\n",
    "plt.xlabel('Age').set_color('white') # 3 - Plot the x label\n",
    "plt.ylabel('Frequency of Diabetics').set_color('white') # 4 - Plot the y label\n",
    "plt.savefig('diabetics_gender') # 5 - Save the figure so it can be referenced later\n",
    "#plt.axhline(color='white') change colour of the axis line\n",
    "plt.tick_params(axis='x', colors='white') # ticks is what you call the labels\n",
    "plt.tick_params(axis='y', colors='white')\n",
    "\n",
    "# Polyuria\n",
    "# Not a good indicator because there isn't a clear indication of whether the symptom gives diabetes or not\n",
    "pd.crosstab(data.Polyuria,data.y).plot(kind='bar') # 1 - use pandas to determine the type of table, with x and y axis\n",
    "plt.title('Polyuria and Diabetics').set_color('white') # 2 - plot the title\n",
    "plt.xlabel('Polyuria').set_color('white') # 3 - Plot the x label\n",
    "plt.ylabel('Frequency of Diabetics').set_color('white') # 4 - Plot the y label\n",
    "plt.savefig('diabetics_Polyuria') # 5 - Save the figure so it can be referenced later\n",
    "#plt.axhline(color='white') change colour of the axis line\n",
    "plt.tick_params(axis='x', colors='white') # ticks is what you call the labels\n",
    "plt.tick_params(axis='y', colors='white')\n",
    "\n",
    "# Polydipsia\n",
    "pd.crosstab(data.Polydipsia,data.y).plot(kind='bar') # 1 - use pandas to determine the type of table, with x and y axis\n",
    "plt.title('Polydipsia and Diabetics').set_color('white') # 2 - plot the title\n",
    "plt.xlabel('Polydipsia').set_color('white') # 3 - Plot the x label\n",
    "plt.ylabel('Frequency of Diabetics').set_color('white') # 4 - Plot the y label\n",
    "plt.savefig('diabetics_Polydipsia') # 5 - Save the figure so it can be referenced later\n",
    "#plt.axhline(color='white') change colour of the axis line\n",
    "plt.tick_params(axis='x', colors='white') # ticks is what you call the labels\n",
    "plt.tick_params(axis='y', colors='white')\n",
    "\n",
    "# WeightLoss\n",
    "pd.crosstab(data.WeightLoss,data.y).plot(kind='bar') # 1 - use pandas to determine the type of table, with x and y axis\n",
    "plt.title('WeightLoss and Diabetics').set_color('white') # 2 - plot the title\n",
    "plt.xlabel('WeightLoss').set_color('white') # 3 - Plot the x label\n",
    "plt.ylabel('Frequency of Diabetics').set_color('white') # 4 - Plot the y label\n",
    "plt.savefig('diabetics_weightloss') # 5 - Save the figure so it can be referenced later\n",
    "#plt.axhline(color='white') change colour of the axis line\n",
    "plt.tick_params(axis='x', colors='white') # ticks is what you call the labels\n",
    "plt.tick_params(axis='y', colors='white')\n",
    "\n",
    "# weakness\n",
    "pd.crosstab(data.weakness,data.y).plot(kind='bar') # 1 - use pandas to determine the type of table, with x and y axis\n",
    "plt.title('weakness and Diabetics').set_color('white') # 2 - plot the title\n",
    "plt.xlabel('weakness').set_color('white') # 3 - Plot the x label\n",
    "plt.ylabel('Frequency of Diabetics').set_color('white') # 4 - Plot the y label\n",
    "plt.savefig('diabetics_weakness') # 5 - Save the figure so it can be referenced later\n",
    "#plt.axhline(color='white') change colour of the axis line\n",
    "plt.tick_params(axis='x', colors='white') # ticks is what you call the labels\n",
    "plt.tick_params(axis='y', colors='white')\n",
    "\n",
    "# Polyphagia\n",
    "pd.crosstab(data.Polyphagia,data.y).plot(kind='bar') # 1 - use pandas to determine the type of table, with x and y axis\n",
    "plt.title('Polyphagia and Diabetics').set_color('white') # 2 - plot the title\n",
    "plt.xlabel('Polyphagia').set_color('white') # 3 - Plot the x label\n",
    "plt.ylabel('Frequency of Diabetics').set_color('white') # 4 - Plot the y label\n",
    "plt.savefig('diabetics_polyphagia') # 5 - Save the figure so it can be referenced later\n",
    "#plt.axhline(color='white') change colour of the axis line\n",
    "plt.tick_params(axis='x', colors='white') # ticks is what you call the labels\n",
    "plt.tick_params(axis='y', colors='white')\n",
    "\n",
    "# GenitalThrush\n",
    "pd.crosstab(data.GenitalThrush,data.y).plot(kind='bar') # 1 - use pandas to determine the type of table, with x and y axis\n",
    "plt.title('GenitalThrush and Diabetics').set_color('white') # 2 - plot the title\n",
    "plt.xlabel('GenitalThrush').set_color('white') # 3 - Plot the x label\n",
    "plt.ylabel('Frequency of Diabetics').set_color('white') # 4 - Plot the y label\n",
    "plt.savefig('diabetics_genitalThrush') # 5 - Save the figure so it can be referenced later\n",
    "#plt.axhline(color='white') change colour of the axis line\n",
    "plt.tick_params(axis='x', colors='white') # ticks is what you call the labels\n",
    "plt.tick_params(axis='y', colors='white')\n",
    "\n",
    "# VisualBlurring \n",
    "pd.crosstab(data.VisualBlurring,data.y).plot(kind='bar') # 1 - use pandas to determine the type of table, with x and y axis\n",
    "plt.title('Visual Blurring and Diabetics').set_color('white') # 2 - plot the title\n",
    "plt.xlabel('Visual Blurring').set_color('white') # 3 - Plot the x label\n",
    "plt.ylabel('Frequency of Diabetics').set_color('white') # 4 - Plot the y label\n",
    "plt.savefig('diabetics_visualBlurring') # 5 - Save the figure so it can be referenced later\n",
    "#plt.axhline(color='white') change colour of the axis line\n",
    "plt.tick_params(axis='x', colors='white') # ticks is what you call the labels\n",
    "plt.tick_params(axis='y', colors='white')\n",
    "\n",
    "# Itching\n",
    "pd.crosstab(data.Itching,data.y).plot(kind='bar') # 1 - use pandas to determine the type of table, with x and y axis\n",
    "plt.title('Itching and Diabetics').set_color('white') # 2 - plot the title\n",
    "plt.xlabel('Itching').set_color('white') # 3 - Plot the x label\n",
    "plt.ylabel('Frequency of Diabetics').set_color('white') # 4 - Plot the y label\n",
    "plt.savefig('diabetics_Itching') # 5 - Save the figure so it can be referenced later\n",
    "#plt.axhline(color='white') change colour of the axis line\n",
    "plt.tick_params(axis='x', colors='white') # ticks is what you call the labels\n",
    "plt.tick_params(axis='y', colors='white')\n",
    "\n",
    "# Irritability\n",
    "pd.crosstab(data.Irritability,data.y).plot(kind='bar') # 1 - use pandas to determine the type of table, with x and y axis\n",
    "plt.title('Irritability and Diabetics').set_color('white') # 2 - plot the title\n",
    "plt.xlabel('Irritability').set_color('white') # 3 - Plot the x label\n",
    "plt.ylabel('Frequency of Diabetics').set_color('white') # 4 - Plot the y label\n",
    "plt.savefig('diabetics_Irritability') # 5 - Save the figure so it can be referenced later\n",
    "#plt.axhline(color='white') change colour of the axis line\n",
    "plt.tick_params(axis='x', colors='white') # ticks is what you call the labels\n",
    "plt.tick_params(axis='y', colors='white')\n",
    "\n",
    "# DelayedHealing\n",
    "pd.crosstab(data.DelayedHealing,data.y).plot(kind='bar') # 1 - use pandas to determine the type of table, with x and y axis\n",
    "plt.title('DelayedHealing and Diabetics').set_color('white') # 2 - plot the title\n",
    "plt.xlabel('DelayedHealing').set_color('white') # 3 - Plot the x label\n",
    "plt.ylabel('Frequency of Diabetics').set_color('white') # 4 - Plot the y label\n",
    "plt.savefig('diabetics_delayedHealing') # 5 - Save the figure so it can be referenced later\n",
    "#plt.axhline(color='white') change colour of the axis line\n",
    "plt.tick_params(axis='x', colors='white') # ticks is what you call the labels\n",
    "plt.tick_params(axis='y', colors='white')\n",
    "\n",
    "# PartialParesis\n",
    "pd.crosstab(data.PartialParesis,data.y).plot(kind='bar') # 1 - use pandas to determine the type of table, with x and y axis\n",
    "plt.title('PartialParesis and Diabetics').set_color('white') # 2 - plot the title\n",
    "plt.xlabel('PartialParesis').set_color('white') # 3 - Plot the x label\n",
    "plt.ylabel('Frequency of Diabetics').set_color('white') # 4 - Plot the y label\n",
    "plt.savefig('diabetics_partialParesis') # 5 - Save the figure so it can be referenced later\n",
    "#plt.axhline(color='white') change colour of the axis line\n",
    "plt.tick_params(axis='x', colors='white') # ticks is what you call the labels\n",
    "plt.tick_params(axis='y', colors='white')\n",
    "\n",
    "# MuscleStiffness\n",
    "pd.crosstab(data.MuscleStiffness,data.y).plot(kind='bar') # 1 - use pandas to determine the type of table, with x and y axis\n",
    "plt.title('MuscleStiffness and Diabetics').set_color('white') # 2 - plot the title\n",
    "plt.xlabel('MuscleStiffness').set_color('white') # 3 - Plot the x label\n",
    "plt.ylabel('Frequency of Diabetics').set_color('white') # 4 - Plot the y label\n",
    "plt.savefig('diabetics_muscleStiffness') # 5 - Save the figure so it can be referenced later\n",
    "#plt.axhline(color='white') change colour of the axis line\n",
    "plt.tick_params(axis='x', colors='white') # ticks is what you call the labels\n",
    "plt.tick_params(axis='y', colors='white')\n",
    "\n",
    "# Alopecia\n",
    "pd.crosstab(data.Alopecia,data.y).plot(kind='bar') # 1 - use pandas to determine the type of table, with x and y axis\n",
    "plt.title('Alopecia and Diabetics').set_color('white') # 2 - plot the title\n",
    "plt.xlabel('Alopecia').set_color('white') # 3 - Plot the x label\n",
    "plt.ylabel('Frequency of Diabetics').set_color('white') # 4 - Plot the y label\n",
    "plt.savefig('diabetics_alopecia') # 5 - Save the figure so it can be referenced later\n",
    "#plt.axhline(color='white') change colour of the axis line\n",
    "plt.tick_params(axis='x', colors='white') # ticks is what you call the labels\n",
    "plt.tick_params(axis='y', colors='white')\n",
    "\n",
    "# Obesity\n",
    "pd.crosstab(data.Obesity,data.y).plot(kind='bar') # 1 - use pandas to determine the type of table, with x and y axis\n",
    "plt.title('Obesity and Diabetics').set_color('white') # 2 - plot the title\n",
    "plt.xlabel('Obesity').set_color('white') # 3 - Plot the x label\n",
    "plt.ylabel('Frequency of Diabetics').set_color('white') # 4 - Plot the y label\n",
    "plt.savefig('diabetics_obesity') # 5 - Save the figure so it can be referenced later\n",
    "#plt.axhline(color='white') change colour of the axis line\n",
    "plt.tick_params(axis='x', colors='white') # ticks is what you call the labels\n",
    "plt.tick_params(axis='y', colors='white')\n",
    "\n",
    "\n",
    "\n"
   ]
  },
  {
   "cell_type": "markdown",
   "metadata": {
    "colab_type": "text",
    "id": "M8jFCQYASFTb"
   },
   "source": [
    "Data Visualization Info\n",
    "\n",
    "Age too many categories\n",
    "\n",
    "Good indicators:\n",
    "Polyuria and Polydipsia are the best indicators"
   ]
  },
  {
   "cell_type": "code",
   "execution_count": null,
   "metadata": {
    "colab": {
     "base_uri": "https://localhost:8080/",
     "height": 579
    },
    "colab_type": "code",
    "id": "qfYneGv_SQ2L",
    "outputId": "81b8475a-6849-4136-b30e-f6a5a9e608f7"
   },
   "outputs": [
    {
     "data": {
      "image/png": "[encoded data removed]",
      "text/plain": [
       "<Figure size 432x288 with 1 Axes>"
      ]
     },
     "metadata": {
      "needs_background": "dark",
      "tags": []
     },
     "output_type": "display_data"
    },
    {
     "data": {
      "image/png": "[encoded data removed]",
      "text/plain": [
       "<Figure size 432x288 with 1 Axes>"
      ]
     },
     "metadata": {
      "needs_background": "dark",
      "tags": []
     },
     "output_type": "display_data"
    }
   ],
   "source": [
    "# Polyuria\n",
    "# Not a good indicator because there isn't a clear indication of whether the symptom gives diabetes or not\n",
    "pd.crosstab(data.Polyuria,data.y).plot(kind='bar') # 1 - use pandas to determine the type of table, with x and y axis\n",
    "plt.title('Polyuria and Diabetics').set_color('white') # 2 - plot the title\n",
    "plt.xlabel('Polyuria').set_color('white') # 3 - Plot the x label\n",
    "plt.ylabel('Frequency of Diabetics').set_color('white') # 4 - Plot the y label\n",
    "plt.savefig('diabetics_Polyuria') # 5 - Save the figure so it can be referenced later\n",
    "#plt.axhline(color='white') change colour of the axis line\n",
    "plt.tick_params(axis='x', colors='white') # ticks is what you call the labels\n",
    "plt.tick_params(axis='y', colors='white')\n",
    "\n",
    "# Polydipsia\n",
    "pd.crosstab(data.Polydipsia,data.y).plot(kind='bar') # 1 - use pandas to determine the type of table, with x and y axis\n",
    "plt.title('Polydipsia and Diabetics').set_color('white') # 2 - plot the title\n",
    "plt.xlabel('Polydipsia').set_color('white') # 3 - Plot the x label\n",
    "plt.ylabel('Frequency of Diabetics').set_color('white') # 4 - Plot the y label\n",
    "plt.savefig('diabetics_Polydipsia') # 5 - Save the figure so it can be referenced later\n",
    "#plt.axhline(color='white') change colour of the axis line\n",
    "plt.tick_params(axis='x', colors='white') # ticks is what you call the labels\n",
    "plt.tick_params(axis='y', colors='white')"
   ]
  },
  {
   "cell_type": "code",
   "execution_count": null,
   "metadata": {
    "colab": {
     "base_uri": "https://localhost:8080/",
     "height": 301
    },
    "colab_type": "code",
    "id": "M1nPnfVoSTDP",
    "outputId": "6fb2a16f-024e-4b9e-c67a-44b4a4dbf08b"
   },
   "outputs": [
    {
     "data": {
      "image/png": "[encoded data removed]",
      "text/plain": [
       "<Figure size 432x288 with 1 Axes>"
      ]
     },
     "metadata": {
      "needs_background": "light",
      "tags": []
     },
     "output_type": "display_data"
    }
   ],
   "source": [
    "# Better visualisation for age, can see most diabetics are in age range 40 - 60\n",
    "data.Age.hist()\n",
    "plt.title('Histogram of Age')\n",
    "plt.xlabel('Age')\n",
    "plt.ylabel('Frequency')\n",
    "plt.savefig('hist_age')"
   ]
  },
  {
   "cell_type": "code",
   "execution_count": null,
   "metadata": {
    "colab": {
     "base_uri": "https://localhost:8080/",
     "height": 417
    },
    "colab_type": "code",
    "id": "BHh3XYFTS6g9",
    "outputId": "9b7e7486-5a10-4d37-e5e5-6b9cac1b1732"
   },
   "outputs": [
    {
     "ename": "ValueError",
     "evalue": "ignored",
     "output_type": "error",
     "traceback": [
      "\u001b[0;31m---------------------------------------------------------------------------\u001b[0m",
      "\u001b[0;31mValueError\u001b[0m                                Traceback (most recent call last)",
      "\u001b[0;32m<ipython-input-44-cbd3db9bf217>\u001b[0m in \u001b[0;36m<module>\u001b[0;34m()\u001b[0m\n\u001b[1;32m      8\u001b[0m     \u001b[0mcat_list\u001b[0m\u001b[0;34m=\u001b[0m\u001b[0;34m'var'\u001b[0m\u001b[0;34m+\u001b[0m\u001b[0;34m'_'\u001b[0m\u001b[0;34m+\u001b[0m\u001b[0mvar\u001b[0m\u001b[0;34m\u001b[0m\u001b[0;34m\u001b[0m\u001b[0m\n\u001b[1;32m      9\u001b[0m     \u001b[0mcat_list\u001b[0m \u001b[0;34m=\u001b[0m \u001b[0mpd\u001b[0m\u001b[0;34m.\u001b[0m\u001b[0mget_dummies\u001b[0m\u001b[0;34m(\u001b[0m\u001b[0mdata\u001b[0m\u001b[0;34m[\u001b[0m\u001b[0mvar\u001b[0m\u001b[0;34m]\u001b[0m\u001b[0;34m,\u001b[0m \u001b[0mprefix\u001b[0m\u001b[0;34m=\u001b[0m\u001b[0mvar\u001b[0m\u001b[0;34m)\u001b[0m\u001b[0;34m\u001b[0m\u001b[0;34m\u001b[0m\u001b[0m\n\u001b[0;32m---> 10\u001b[0;31m     \u001b[0mdata1\u001b[0m\u001b[0;34m=\u001b[0m\u001b[0mdata\u001b[0m\u001b[0;34m.\u001b[0m\u001b[0mjoin\u001b[0m\u001b[0;34m(\u001b[0m\u001b[0mcat_list\u001b[0m\u001b[0;34m)\u001b[0m\u001b[0;34m\u001b[0m\u001b[0;34m\u001b[0m\u001b[0m\n\u001b[0m\u001b[1;32m     11\u001b[0m     \u001b[0mdata\u001b[0m\u001b[0;34m=\u001b[0m\u001b[0mdata1\u001b[0m\u001b[0;34m\u001b[0m\u001b[0;34m\u001b[0m\u001b[0m\n\u001b[1;32m     12\u001b[0m \u001b[0;34m\u001b[0m\u001b[0m\n",
      "\u001b[0;32m/usr/local/lib/python3.6/dist-packages/pandas/core/frame.py\u001b[0m in \u001b[0;36mjoin\u001b[0;34m(self, other, on, how, lsuffix, rsuffix, sort)\u001b[0m\n\u001b[1;32m   7207\u001b[0m         \"\"\"\n\u001b[1;32m   7208\u001b[0m         return self._join_compat(\n\u001b[0;32m-> 7209\u001b[0;31m             \u001b[0mother\u001b[0m\u001b[0;34m,\u001b[0m \u001b[0mon\u001b[0m\u001b[0;34m=\u001b[0m\u001b[0mon\u001b[0m\u001b[0;34m,\u001b[0m \u001b[0mhow\u001b[0m\u001b[0;34m=\u001b[0m\u001b[0mhow\u001b[0m\u001b[0;34m,\u001b[0m \u001b[0mlsuffix\u001b[0m\u001b[0;34m=\u001b[0m\u001b[0mlsuffix\u001b[0m\u001b[0;34m,\u001b[0m \u001b[0mrsuffix\u001b[0m\u001b[0;34m=\u001b[0m\u001b[0mrsuffix\u001b[0m\u001b[0;34m,\u001b[0m \u001b[0msort\u001b[0m\u001b[0;34m=\u001b[0m\u001b[0msort\u001b[0m\u001b[0;34m\u001b[0m\u001b[0;34m\u001b[0m\u001b[0m\n\u001b[0m\u001b[1;32m   7210\u001b[0m         )\n\u001b[1;32m   7211\u001b[0m \u001b[0;34m\u001b[0m\u001b[0m\n",
      "\u001b[0;32m/usr/local/lib/python3.6/dist-packages/pandas/core/frame.py\u001b[0m in \u001b[0;36m_join_compat\u001b[0;34m(self, other, on, how, lsuffix, rsuffix, sort)\u001b[0m\n\u001b[1;32m   7230\u001b[0m                 \u001b[0mright_index\u001b[0m\u001b[0;34m=\u001b[0m\u001b[0;32mTrue\u001b[0m\u001b[0;34m,\u001b[0m\u001b[0;34m\u001b[0m\u001b[0;34m\u001b[0m\u001b[0m\n\u001b[1;32m   7231\u001b[0m                 \u001b[0msuffixes\u001b[0m\u001b[0;34m=\u001b[0m\u001b[0;34m(\u001b[0m\u001b[0mlsuffix\u001b[0m\u001b[0;34m,\u001b[0m \u001b[0mrsuffix\u001b[0m\u001b[0;34m)\u001b[0m\u001b[0;34m,\u001b[0m\u001b[0;34m\u001b[0m\u001b[0;34m\u001b[0m\u001b[0m\n\u001b[0;32m-> 7232\u001b[0;31m                 \u001b[0msort\u001b[0m\u001b[0;34m=\u001b[0m\u001b[0msort\u001b[0m\u001b[0;34m,\u001b[0m\u001b[0;34m\u001b[0m\u001b[0;34m\u001b[0m\u001b[0m\n\u001b[0m\u001b[1;32m   7233\u001b[0m             )\n\u001b[1;32m   7234\u001b[0m         \u001b[0;32melse\u001b[0m\u001b[0;34m:\u001b[0m\u001b[0;34m\u001b[0m\u001b[0;34m\u001b[0m\u001b[0m\n",
      "\u001b[0;32m/usr/local/lib/python3.6/dist-packages/pandas/core/reshape/merge.py\u001b[0m in \u001b[0;36mmerge\u001b[0;34m(left, right, how, on, left_on, right_on, left_index, right_index, sort, suffixes, copy, indicator, validate)\u001b[0m\n\u001b[1;32m     86\u001b[0m         \u001b[0mvalidate\u001b[0m\u001b[0;34m=\u001b[0m\u001b[0mvalidate\u001b[0m\u001b[0;34m,\u001b[0m\u001b[0;34m\u001b[0m\u001b[0;34m\u001b[0m\u001b[0m\n\u001b[1;32m     87\u001b[0m     )\n\u001b[0;32m---> 88\u001b[0;31m     \u001b[0;32mreturn\u001b[0m \u001b[0mop\u001b[0m\u001b[0;34m.\u001b[0m\u001b[0mget_result\u001b[0m\u001b[0;34m(\u001b[0m\u001b[0;34m)\u001b[0m\u001b[0;34m\u001b[0m\u001b[0;34m\u001b[0m\u001b[0m\n\u001b[0m\u001b[1;32m     89\u001b[0m \u001b[0;34m\u001b[0m\u001b[0m\n\u001b[1;32m     90\u001b[0m \u001b[0;34m\u001b[0m\u001b[0m\n",
      "\u001b[0;32m/usr/local/lib/python3.6/dist-packages/pandas/core/reshape/merge.py\u001b[0m in \u001b[0;36mget_result\u001b[0;34m(self)\u001b[0m\n\u001b[1;32m    647\u001b[0m \u001b[0;34m\u001b[0m\u001b[0m\n\u001b[1;32m    648\u001b[0m         llabels, rlabels = _items_overlap_with_suffix(\n\u001b[0;32m--> 649\u001b[0;31m             \u001b[0mldata\u001b[0m\u001b[0;34m.\u001b[0m\u001b[0mitems\u001b[0m\u001b[0;34m,\u001b[0m \u001b[0mlsuf\u001b[0m\u001b[0;34m,\u001b[0m \u001b[0mrdata\u001b[0m\u001b[0;34m.\u001b[0m\u001b[0mitems\u001b[0m\u001b[0;34m,\u001b[0m \u001b[0mrsuf\u001b[0m\u001b[0;34m\u001b[0m\u001b[0;34m\u001b[0m\u001b[0m\n\u001b[0m\u001b[1;32m    650\u001b[0m         )\n\u001b[1;32m    651\u001b[0m \u001b[0;34m\u001b[0m\u001b[0m\n",
      "\u001b[0;32m/usr/local/lib/python3.6/dist-packages/pandas/core/reshape/merge.py\u001b[0m in \u001b[0;36m_items_overlap_with_suffix\u001b[0;34m(left, lsuffix, right, rsuffix)\u001b[0m\n\u001b[1;32m   2024\u001b[0m         raise ValueError(\n\u001b[1;32m   2025\u001b[0m             \u001b[0;34m\"columns overlap but no suffix specified: \"\u001b[0m\u001b[0;34m\u001b[0m\u001b[0;34m\u001b[0m\u001b[0m\n\u001b[0;32m-> 2026\u001b[0;31m             \u001b[0;34m\"{rename}\"\u001b[0m\u001b[0;34m.\u001b[0m\u001b[0mformat\u001b[0m\u001b[0;34m(\u001b[0m\u001b[0mrename\u001b[0m\u001b[0;34m=\u001b[0m\u001b[0mto_rename\u001b[0m\u001b[0;34m)\u001b[0m\u001b[0;34m\u001b[0m\u001b[0;34m\u001b[0m\u001b[0m\n\u001b[0m\u001b[1;32m   2027\u001b[0m         )\n\u001b[1;32m   2028\u001b[0m \u001b[0;34m\u001b[0m\u001b[0m\n",
      "\u001b[0;31mValueError\u001b[0m: columns overlap but no suffix specified: Index(['Polyuria_0', 'Polyuria_1'], dtype='object')"
     ]
    }
   ],
   "source": [
    "# Create dummt variables, may already be in this form\n",
    "\n",
    "cat_vars = ['Polyuria','Polydipsia']\n",
    "for var in cat_vars:\n",
    "    cat_list='var'+'_'+var\n",
    "    cat_list = pd.get_dummies(data[var], prefix=var)\n",
    "    data1=data.join(cat_list)\n",
    "    data=data1\n",
    "\n",
    "cat_vars = ['Polyuria','Polydipsia']\n",
    "data_vars=data.columns.values.tolist()\n",
    "to_keep=[i for i in data_vars if i not in cat_vars]\n",
    "\n",
    "data_final=data[to_keep]\n",
    "data_final.columns.values"
   ]
  },
  {
   "cell_type": "code",
   "execution_count": null,
   "metadata": {
    "colab": {
     "base_uri": "https://localhost:8080/",
     "height": 226
    },
    "colab_type": "code",
    "id": "U1LdOlEAUIUS",
    "outputId": "f1a6a6ed-afde-4910-8031-18cf7c7f8e72"
   },
   "outputs": [
    {
     "data": {
      "text/html": [
       "<div>\n",
       "<style scoped>\n",
       "    .dataframe tbody tr th:only-of-type {\n",
       "        vertical-align: middle;\n",
       "    }\n",
       "\n",
       "    .dataframe tbody tr th {\n",
       "        vertical-align: top;\n",
       "    }\n",
       "\n",
       "    .dataframe thead th {\n",
       "        text-align: right;\n",
       "    }\n",
       "</style>\n",
       "<table border=\"1\" class=\"dataframe\">\n",
       "  <thead>\n",
       "    <tr style=\"text-align: right;\">\n",
       "      <th></th>\n",
       "      <th>Age</th>\n",
       "      <th>Gender</th>\n",
       "      <th>Polyuria</th>\n",
       "      <th>Polydipsia</th>\n",
       "      <th>WeightLoss</th>\n",
       "      <th>weakness</th>\n",
       "      <th>Polyphagia</th>\n",
       "      <th>GenitalThrush</th>\n",
       "      <th>VisualBlurring</th>\n",
       "      <th>Itching</th>\n",
       "      <th>Irritability</th>\n",
       "      <th>DelayedHealing</th>\n",
       "      <th>PartialParesis</th>\n",
       "      <th>MuscleStiffness</th>\n",
       "      <th>Alopecia</th>\n",
       "      <th>Obesity</th>\n",
       "      <th>y</th>\n",
       "      <th>Polyuria_0</th>\n",
       "      <th>Polyuria_1</th>\n",
       "      <th>Polydipsia_0</th>\n",
       "      <th>Polydipsia_1</th>\n",
       "    </tr>\n",
       "  </thead>\n",
       "  <tbody>\n",
       "    <tr>\n",
       "      <th>515</th>\n",
       "      <td>39</td>\n",
       "      <td>Female</td>\n",
       "      <td>1</td>\n",
       "      <td>1</td>\n",
       "      <td>1</td>\n",
       "      <td>0</td>\n",
       "      <td>1</td>\n",
       "      <td>0</td>\n",
       "      <td>0</td>\n",
       "      <td>1</td>\n",
       "      <td>0</td>\n",
       "      <td>1</td>\n",
       "      <td>1</td>\n",
       "      <td>0</td>\n",
       "      <td>0</td>\n",
       "      <td>0</td>\n",
       "      <td>1</td>\n",
       "      <td>0</td>\n",
       "      <td>1</td>\n",
       "      <td>0</td>\n",
       "      <td>1</td>\n",
       "    </tr>\n",
       "    <tr>\n",
       "      <th>516</th>\n",
       "      <td>48</td>\n",
       "      <td>Female</td>\n",
       "      <td>1</td>\n",
       "      <td>1</td>\n",
       "      <td>1</td>\n",
       "      <td>1</td>\n",
       "      <td>1</td>\n",
       "      <td>0</td>\n",
       "      <td>0</td>\n",
       "      <td>1</td>\n",
       "      <td>1</td>\n",
       "      <td>1</td>\n",
       "      <td>1</td>\n",
       "      <td>0</td>\n",
       "      <td>0</td>\n",
       "      <td>0</td>\n",
       "      <td>1</td>\n",
       "      <td>0</td>\n",
       "      <td>1</td>\n",
       "      <td>0</td>\n",
       "      <td>1</td>\n",
       "    </tr>\n",
       "    <tr>\n",
       "      <th>517</th>\n",
       "      <td>58</td>\n",
       "      <td>Female</td>\n",
       "      <td>1</td>\n",
       "      <td>1</td>\n",
       "      <td>1</td>\n",
       "      <td>1</td>\n",
       "      <td>1</td>\n",
       "      <td>0</td>\n",
       "      <td>1</td>\n",
       "      <td>0</td>\n",
       "      <td>0</td>\n",
       "      <td>0</td>\n",
       "      <td>1</td>\n",
       "      <td>1</td>\n",
       "      <td>0</td>\n",
       "      <td>1</td>\n",
       "      <td>1</td>\n",
       "      <td>0</td>\n",
       "      <td>1</td>\n",
       "      <td>0</td>\n",
       "      <td>1</td>\n",
       "    </tr>\n",
       "    <tr>\n",
       "      <th>518</th>\n",
       "      <td>32</td>\n",
       "      <td>Female</td>\n",
       "      <td>0</td>\n",
       "      <td>0</td>\n",
       "      <td>0</td>\n",
       "      <td>1</td>\n",
       "      <td>0</td>\n",
       "      <td>0</td>\n",
       "      <td>1</td>\n",
       "      <td>1</td>\n",
       "      <td>0</td>\n",
       "      <td>1</td>\n",
       "      <td>0</td>\n",
       "      <td>0</td>\n",
       "      <td>1</td>\n",
       "      <td>0</td>\n",
       "      <td>0</td>\n",
       "      <td>1</td>\n",
       "      <td>0</td>\n",
       "      <td>1</td>\n",
       "      <td>0</td>\n",
       "    </tr>\n",
       "    <tr>\n",
       "      <th>519</th>\n",
       "      <td>42</td>\n",
       "      <td>Male</td>\n",
       "      <td>0</td>\n",
       "      <td>0</td>\n",
       "      <td>0</td>\n",
       "      <td>0</td>\n",
       "      <td>0</td>\n",
       "      <td>0</td>\n",
       "      <td>0</td>\n",
       "      <td>0</td>\n",
       "      <td>0</td>\n",
       "      <td>0</td>\n",
       "      <td>0</td>\n",
       "      <td>0</td>\n",
       "      <td>0</td>\n",
       "      <td>0</td>\n",
       "      <td>0</td>\n",
       "      <td>1</td>\n",
       "      <td>0</td>\n",
       "      <td>1</td>\n",
       "      <td>0</td>\n",
       "    </tr>\n",
       "  </tbody>\n",
       "</table>\n",
       "</div>"
      ],
      "text/plain": [
       "     Age  Gender  Polyuria  ...  Polyuria_1  Polydipsia_0  Polydipsia_1\n",
       "515   39  Female         1  ...           1             0             1\n",
       "516   48  Female         1  ...           1             0             1\n",
       "517   58  Female         1  ...           1             0             1\n",
       "518   32  Female         0  ...           0             1             0\n",
       "519   42    Male         0  ...           0             1             0\n",
       "\n",
       "[5 rows x 21 columns]"
      ]
     },
     "execution_count": 42,
     "metadata": {
      "tags": []
     },
     "output_type": "execute_result"
    }
   ],
   "source": [
    "data.head()\n",
    "data.tail()"
   ]
  },
  {
   "cell_type": "code",
   "execution_count": null,
   "metadata": {
    "colab": {
     "base_uri": "https://localhost:8080/",
     "height": 124
    },
    "colab_type": "code",
    "id": "MPpOpNX4U7F-",
    "outputId": "dc6a31a9-d944-4973-a025-c0783bcb0c8d"
   },
   "outputs": [
    {
     "name": "stderr",
     "output_type": "stream",
     "text": [
      "/usr/local/lib/python3.6/dist-packages/pandas/core/frame.py:4172: SettingWithCopyWarning: \n",
      "A value is trying to be set on a copy of a slice from a DataFrame\n",
      "\n",
      "See the caveats in the documentation: https://pandas.pydata.org/pandas-docs/stable/user_guide/indexing.html#returning-a-view-versus-a-copy\n",
      "  method=method,\n"
     ]
    }
   ],
   "source": [
    "# Problem here - Male, 0 and Female, 1\n",
    "data_final.replace('Female', 1, inplace=True)\n",
    "data_final.replace('Male', 0, inplace=True)"
   ]
  },
  {
   "cell_type": "code",
   "execution_count": null,
   "metadata": {
    "colab": {
     "base_uri": "https://localhost:8080/",
     "height": 226
    },
    "colab_type": "code",
    "id": "mNmhzyJLU-xr",
    "outputId": "ec7a16e1-edc0-45e9-eb8b-22280b67c9dc"
   },
   "outputs": [
    {
     "data": {
      "text/html": [
       "<div>\n",
       "<style scoped>\n",
       "    .dataframe tbody tr th:only-of-type {\n",
       "        vertical-align: middle;\n",
       "    }\n",
       "\n",
       "    .dataframe tbody tr th {\n",
       "        vertical-align: top;\n",
       "    }\n",
       "\n",
       "    .dataframe thead th {\n",
       "        text-align: right;\n",
       "    }\n",
       "</style>\n",
       "<table border=\"1\" class=\"dataframe\">\n",
       "  <thead>\n",
       "    <tr style=\"text-align: right;\">\n",
       "      <th></th>\n",
       "      <th>Age</th>\n",
       "      <th>Gender</th>\n",
       "      <th>WeightLoss</th>\n",
       "      <th>weakness</th>\n",
       "      <th>Polyphagia</th>\n",
       "      <th>GenitalThrush</th>\n",
       "      <th>VisualBlurring</th>\n",
       "      <th>Itching</th>\n",
       "      <th>Irritability</th>\n",
       "      <th>DelayedHealing</th>\n",
       "      <th>PartialParesis</th>\n",
       "      <th>MuscleStiffness</th>\n",
       "      <th>Alopecia</th>\n",
       "      <th>Obesity</th>\n",
       "      <th>y</th>\n",
       "      <th>Polyuria_0</th>\n",
       "      <th>Polyuria_1</th>\n",
       "      <th>Polydipsia_0</th>\n",
       "      <th>Polydipsia_1</th>\n",
       "    </tr>\n",
       "  </thead>\n",
       "  <tbody>\n",
       "    <tr>\n",
       "      <th>0</th>\n",
       "      <td>40</td>\n",
       "      <td>0</td>\n",
       "      <td>0</td>\n",
       "      <td>1</td>\n",
       "      <td>0</td>\n",
       "      <td>0</td>\n",
       "      <td>0</td>\n",
       "      <td>1</td>\n",
       "      <td>0</td>\n",
       "      <td>1</td>\n",
       "      <td>0</td>\n",
       "      <td>1</td>\n",
       "      <td>1</td>\n",
       "      <td>1</td>\n",
       "      <td>1</td>\n",
       "      <td>1</td>\n",
       "      <td>0</td>\n",
       "      <td>0</td>\n",
       "      <td>1</td>\n",
       "    </tr>\n",
       "    <tr>\n",
       "      <th>1</th>\n",
       "      <td>58</td>\n",
       "      <td>0</td>\n",
       "      <td>0</td>\n",
       "      <td>1</td>\n",
       "      <td>0</td>\n",
       "      <td>0</td>\n",
       "      <td>1</td>\n",
       "      <td>0</td>\n",
       "      <td>0</td>\n",
       "      <td>0</td>\n",
       "      <td>1</td>\n",
       "      <td>0</td>\n",
       "      <td>1</td>\n",
       "      <td>0</td>\n",
       "      <td>1</td>\n",
       "      <td>1</td>\n",
       "      <td>0</td>\n",
       "      <td>1</td>\n",
       "      <td>0</td>\n",
       "    </tr>\n",
       "    <tr>\n",
       "      <th>2</th>\n",
       "      <td>41</td>\n",
       "      <td>0</td>\n",
       "      <td>0</td>\n",
       "      <td>1</td>\n",
       "      <td>1</td>\n",
       "      <td>0</td>\n",
       "      <td>0</td>\n",
       "      <td>1</td>\n",
       "      <td>0</td>\n",
       "      <td>1</td>\n",
       "      <td>0</td>\n",
       "      <td>1</td>\n",
       "      <td>1</td>\n",
       "      <td>0</td>\n",
       "      <td>1</td>\n",
       "      <td>0</td>\n",
       "      <td>1</td>\n",
       "      <td>1</td>\n",
       "      <td>0</td>\n",
       "    </tr>\n",
       "    <tr>\n",
       "      <th>3</th>\n",
       "      <td>45</td>\n",
       "      <td>0</td>\n",
       "      <td>1</td>\n",
       "      <td>1</td>\n",
       "      <td>1</td>\n",
       "      <td>1</td>\n",
       "      <td>0</td>\n",
       "      <td>1</td>\n",
       "      <td>0</td>\n",
       "      <td>1</td>\n",
       "      <td>0</td>\n",
       "      <td>0</td>\n",
       "      <td>0</td>\n",
       "      <td>0</td>\n",
       "      <td>1</td>\n",
       "      <td>1</td>\n",
       "      <td>0</td>\n",
       "      <td>1</td>\n",
       "      <td>0</td>\n",
       "    </tr>\n",
       "    <tr>\n",
       "      <th>4</th>\n",
       "      <td>60</td>\n",
       "      <td>0</td>\n",
       "      <td>1</td>\n",
       "      <td>1</td>\n",
       "      <td>1</td>\n",
       "      <td>0</td>\n",
       "      <td>1</td>\n",
       "      <td>1</td>\n",
       "      <td>1</td>\n",
       "      <td>1</td>\n",
       "      <td>1</td>\n",
       "      <td>1</td>\n",
       "      <td>1</td>\n",
       "      <td>1</td>\n",
       "      <td>1</td>\n",
       "      <td>0</td>\n",
       "      <td>1</td>\n",
       "      <td>0</td>\n",
       "      <td>1</td>\n",
       "    </tr>\n",
       "  </tbody>\n",
       "</table>\n",
       "</div>"
      ],
      "text/plain": [
       "   Age  Gender  WeightLoss  ...  Polyuria_1  Polydipsia_0  Polydipsia_1\n",
       "0   40       0           0  ...           0             0             1\n",
       "1   58       0           0  ...           0             1             0\n",
       "2   41       0           0  ...           1             1             0\n",
       "3   45       0           1  ...           0             1             0\n",
       "4   60       0           1  ...           1             0             1\n",
       "\n",
       "[5 rows x 19 columns]"
      ]
     },
     "execution_count": 51,
     "metadata": {
      "tags": []
     },
     "output_type": "execute_result"
    }
   ],
   "source": [
    "data_final.head()"
   ]
  },
  {
   "cell_type": "code",
   "execution_count": null,
   "metadata": {
    "colab": {
     "base_uri": "https://localhost:8080/",
     "height": 193
    },
    "colab_type": "code",
    "id": "V7OGJrRATjEp",
    "outputId": "6e98aa28-918e-441f-eaa1-e752a5e1f5af"
   },
   "outputs": [
    {
     "name": "stdout",
     "output_type": "stream",
     "text": [
      "length of oversampled data is  452\n",
      "Number of none diabetics in oversampled data 226\n",
      "Number of diabetics 226\n",
      "Proportion of none diabetics data in oversampled data is  0.5\n",
      "Proportion of diabetics data in oversampled data is  0.5\n"
     ]
    },
    {
     "name": "stderr",
     "output_type": "stream",
     "text": [
      "/usr/local/lib/python3.6/dist-packages/sklearn/utils/validation.py:760: DataConversionWarning: A column-vector y was passed when a 1d array was expected. Please change the shape of y to (n_samples, ), for example using ravel().\n",
      "  y = column_or_1d(y, warn=True)\n",
      "/usr/local/lib/python3.6/dist-packages/sklearn/utils/deprecation.py:87: FutureWarning: Function safe_indexing is deprecated; safe_indexing is deprecated in version 0.22 and will be removed in version 0.24.\n",
      "  warnings.warn(msg, category=FutureWarning)\n"
     ]
    }
   ],
   "source": [
    "# Over-sample the data with SMOTE\n",
    "\n",
    "X = data_final.loc[:, data_final.columns != 'y']\n",
    "y = data_final.loc[:, data_final.columns == 'y']\n",
    "\n",
    "from imblearn.over_sampling import SMOTE\n",
    "\n",
    "os = SMOTE(random_state=0)\n",
    "X_train, X_test, y_train, y_test = train_test_split(X, y, test_size=0.3, random_state=0)\n",
    "columns = X_train.columns\n",
    "# This is where the data is split\n",
    "os_data_X,os_data_y=os.fit_sample(X_train, y_train)\n",
    "os_data_X = pd.DataFrame(data=os_data_X,columns=columns )\n",
    "os_data_y= pd.DataFrame(data=os_data_y,columns=['y'])\n",
    "# we can Check the numbers of our data\n",
    "print(\"length of oversampled data is \",len(os_data_X))\n",
    "print(\"Number of none diabetics in oversampled data\",len(os_data_y[os_data_y['y']==0]))\n",
    "print(\"Number of diabetics\",len(os_data_y[os_data_y['y']==1]))\n",
    "print(\"Proportion of none diabetics data in oversampled data is \",len(os_data_y[os_data_y['y']==0])/len(os_data_X))\n",
    "print(\"Proportion of diabetics data in oversampled data is \",len(os_data_y[os_data_y['y']==1])/len(os_data_X))"
   ]
  },
  {
   "cell_type": "markdown",
   "metadata": {
    "colab_type": "text",
    "id": "ZXbSMpwDwdQo"
   },
   "source": [
    "Now we have a perfect balanced data! You may have noticed that I over-sampled only on the training data, because by oversampling only on the training data, none of the information in the test data is being used to create synthetic observations, therefore, no information will bleed from test data into the model training."
   ]
  },
  {
   "cell_type": "code",
   "execution_count": null,
   "metadata": {
    "colab": {
     "base_uri": "https://localhost:8080/",
     "height": 69
    },
    "colab_type": "code",
    "id": "FahwlCE8welS",
    "outputId": "417c265f-1d8c-440a-b21d-6839bf64d907"
   },
   "outputs": [
    {
     "name": "stdout",
     "output_type": "stream",
     "text": [
      "[ True  True  True  True  True  True  True  True  True  True  True  True\n",
      "  True  True  True  True  True  True]\n",
      "[1 1 1 1 1 1 1 1 1 1 1 1 1 1 1 1 1 1]\n"
     ]
    }
   ],
   "source": [
    "# Recursive Feature Elimination\n",
    "\n",
    "# The goal of RFE is to select features by recursively considering smaller and smaller sets of features\n",
    "# based on the idea to repeatedly construct a model and choose either the best or worst performing feature, setting the feature aside and then repeating the process with the rest of the features\n",
    "\n",
    "data_final_vars=data_final.columns.values.tolist()\n",
    "y=['y']\n",
    "X=[i for i in data_final_vars if i not in y]\n",
    "\n",
    "from sklearn.feature_selection import RFE\n",
    "from sklearn.linear_model import LogisticRegression\n",
    "from sklearn.preprocessing import StandardScaler\n",
    "\n",
    "logreg = LogisticRegression(max_iter=10000) # fixed by increasing max number of iterations\n",
    "rfe = RFE(logreg, 20)\n",
    "rfe = rfe.fit(os_data_X, os_data_y.values.ravel())\n",
    "print(rfe.support_)\n",
    "print(rfe.ranking_)\n"
   ]
  },
  {
   "cell_type": "code",
   "execution_count": null,
   "metadata": {
    "colab": {
     "base_uri": "https://localhost:8080/",
     "height": 121
    },
    "colab_type": "code",
    "id": "4kiq9uh0V43-",
    "outputId": "5969b6d6-4e68-47ad-c50e-6c19673e3273"
   },
   "outputs": [
    {
     "name": "stdout",
     "output_type": "stream",
     "text": [
      "Index(['Age', 'Gender', 'Polyuria', 'Polydipsia', 'WeightLoss', 'weakness',\n",
      "       'Polyphagia', 'GenitalThrush', 'VisualBlurring', 'Itching',\n",
      "       'Irritability', 'DelayedHealing', 'PartialParesis', 'MuscleStiffness',\n",
      "       'Alopecia', 'Obesity', 'y', 'Polyuria_0', 'Polyuria_1', 'Polydipsia_0',\n",
      "       'Polydipsia_1'],\n",
      "      dtype='object')\n"
     ]
    }
   ],
   "source": [
    "print(data.columns)"
   ]
  },
  {
   "cell_type": "code",
   "execution_count": null,
   "metadata": {
    "colab": {},
    "colab_type": "code",
    "id": "teHmUeQ8234X"
   },
   "outputs": [],
   "source": [
    "# RFE has helped us choose the following columns, where all the values are True or 1 are the following columns\n",
    "# Removes Polyuria and Polydipsia\n",
    "cols=['Age', 'Gender', 'WeightLoss', 'weakness',\n",
    "       'Polyphagia', 'GenitalThrush', 'VisualBlurring', 'Itching',\n",
    "       'Irritability', 'DelayedHealing', 'PartialParesis', 'MuscleStiffness',\n",
    "       'Alopecia', 'Obesity','Polyuria_0', 'Polyuria_1','Polydipsia_0',\n",
    "       'Polydipsia_1'] \n",
    "X=os_data_X[cols]\n",
    "y=os_data_y['y']"
   ]
  },
  {
   "cell_type": "code",
   "execution_count": null,
   "metadata": {
    "colab": {
     "base_uri": "https://localhost:8080/",
     "height": 642
    },
    "colab_type": "code",
    "id": "tpT8lJhj4PK2",
    "outputId": "f95830a7-c278-4cb5-e46f-c826a1ae4964"
   },
   "outputs": [
    {
     "name": "stdout",
     "output_type": "stream",
     "text": [
      "Optimization terminated successfully.\n",
      "         Current function value: 0.143820\n",
      "         Iterations 10\n",
      "                         Results: Logit\n",
      "=================================================================\n",
      "Model:              Logit            Pseudo R-squared: 0.793     \n",
      "Dependent Variable: y                AIC:              166.0137  \n",
      "Date:               2020-08-27 19:16 BIC:              240.0599  \n",
      "No. Observations:   452              Log-Likelihood:   -65.007   \n",
      "Df Model:           17               LL-Null:          -313.30   \n",
      "Df Residuals:       434              LLR p-value:      9.8831e-95\n",
      "Converged:          1.0000           Scale:            1.0000    \n",
      "No. Iterations:     10.0000                                      \n",
      "-----------------------------------------------------------------\n",
      "                   Coef.  Std.Err.    z    P>|z|   [0.025  0.975]\n",
      "-----------------------------------------------------------------\n",
      "Age               -0.0578   0.0276 -2.0993 0.0358 -0.1119 -0.0038\n",
      "Gender             4.8249   0.7154  6.7440 0.0000  3.4227  6.2271\n",
      "WeightLoss         0.3218   0.7416  0.4339 0.6644 -1.1318  1.7754\n",
      "weakness           0.6363   0.7160  0.8886 0.3742 -0.7671  2.0396\n",
      "Polyphagia         0.9336   0.6155  1.5168 0.1293 -0.2727  2.1400\n",
      "GenitalThrush      2.1388   0.6530  3.2753 0.0011  0.8589  3.4186\n",
      "VisualBlurring     0.2484   0.7835  0.3170 0.7513 -1.2873  1.7841\n",
      "Itching           -2.4228   0.7441 -3.2558 0.0011 -3.8812 -0.9643\n",
      "Irritability       2.7837   0.7568  3.6784 0.0002  1.3005  4.2670\n",
      "DelayedHealing    -0.4634   0.6830 -0.6785 0.4974 -1.8020  0.8752\n",
      "PartialParesis     1.1544   0.7037  1.6403 0.1009 -0.2249  2.5337\n",
      "MuscleStiffness   -0.0647   0.6717 -0.0964 0.9232 -1.3813  1.2518\n",
      "Alopecia           0.0544   0.7265  0.0748 0.9404 -1.3695  1.4782\n",
      "Obesity           -0.2218   0.6517 -0.3403 0.7336 -1.4991  1.0555\n",
      "Polyuria_0        -1.4270   2.5544 -0.5586 0.5764 -6.4336  3.5796\n",
      "Polyuria_1         3.1924   2.6654  1.1977 0.2310 -2.0316  8.4164\n",
      "Polydipsia_0      -0.5126   2.5883 -0.1981 0.8430 -5.5856  4.5603\n",
      "Polydipsia_1       5.2443   2.7219  1.9267 0.0540 -0.0905 10.5791\n",
      "=================================================================\n",
      "\n"
     ]
    }
   ],
   "source": [
    "# Implementing the model\n",
    "\n",
    "import statsmodels.api as sm\n",
    "logit_model=sm.Logit(y,X)\n",
    "result=logit_model.fit()\n",
    "print(result.summary2())"
   ]
  },
  {
   "cell_type": "code",
   "execution_count": null,
   "metadata": {
    "colab": {
     "base_uri": "https://localhost:8080/",
     "height": 434
    },
    "colab_type": "code",
    "id": "j_iZagpW4fOG",
    "outputId": "fae14b65-f30b-4fd0-bc06-82f46b1a49de"
   },
   "outputs": [
    {
     "name": "stdout",
     "output_type": "stream",
     "text": [
      "Optimization terminated successfully.\n",
      "         Current function value: 0.323464\n",
      "         Iterations 8\n",
      "                         Results: Logit\n",
      "=================================================================\n",
      "Model:              Logit            Pseudo R-squared: 0.533     \n",
      "Dependent Variable: y                AIC:              304.4119  \n",
      "Date:               2020-08-27 19:18 BIC:              329.0940  \n",
      "No. Observations:   452              Log-Likelihood:   -146.21   \n",
      "Df Model:           5                LL-Null:          -313.30   \n",
      "Df Residuals:       446              LLR p-value:      4.4217e-70\n",
      "Converged:          1.0000           Scale:            1.0000    \n",
      "No. Iterations:     8.0000                                       \n",
      "-----------------------------------------------------------------\n",
      "                   Coef.  Std.Err.    z    P>|z|   [0.025  0.975]\n",
      "-----------------------------------------------------------------\n",
      "Age               -0.0370   0.0055 -6.7578 0.0000 -0.0478 -0.0263\n",
      "Gender             2.6868   0.3771  7.1240 0.0000  1.9476  3.4259\n",
      "GenitalThrush      1.8899   0.4048  4.6684 0.0000  1.0965  2.6834\n",
      "Itching           -1.3635   0.4066 -3.3537 0.0008 -2.1603 -0.5666\n",
      "DelayedHealing    -0.1045   0.4010 -0.2606 0.7944 -0.8904  0.6813\n",
      "Polydipsia_1       5.0590   0.5273  9.5940 0.0000  4.0255  6.0925\n",
      "=================================================================\n",
      "\n"
     ]
    }
   ],
   "source": [
    "cols=['Age', 'Gender', 'GenitalThrush', 'Itching', 'DelayedHealing',\n",
    "       'Polydipsia_1'] \n",
    "X=os_data_X[cols]\n",
    "y=os_data_y['y']\n",
    "logit_model=sm.Logit(y,X)\n",
    "result=logit_model.fit()\n",
    "print(result.summary2())"
   ]
  },
  {
   "cell_type": "code",
   "execution_count": null,
   "metadata": {
    "colab": {
     "base_uri": "https://localhost:8080/",
     "height": 104
    },
    "colab_type": "code",
    "id": "Awmc4mxs4qia",
    "outputId": "35b95558-7419-46d8-a22c-336afca0f0ee"
   },
   "outputs": [
    {
     "data": {
      "text/plain": [
       "LogisticRegression(C=1.0, class_weight=None, dual=False, fit_intercept=True,\n",
       "                   intercept_scaling=1, l1_ratio=None, max_iter=100,\n",
       "                   multi_class='auto', n_jobs=None, penalty='l2',\n",
       "                   random_state=None, solver='lbfgs', tol=0.0001, verbose=0,\n",
       "                   warm_start=False)"
      ]
     },
     "execution_count": 60,
     "metadata": {
      "tags": []
     },
     "output_type": "execute_result"
    }
   ],
   "source": [
    "# Logistic Regression Model Fitting - finally up to this part!\n",
    "\n",
    "from sklearn.linear_model import LogisticRegression\n",
    "from sklearn import metrics\n",
    "X_train, X_test, y_train, y_test = train_test_split(X, y, test_size=0.3, random_state=0)\n",
    "logreg = LogisticRegression()\n",
    "logreg.fit(X_train, y_train)"
   ]
  },
  {
   "cell_type": "code",
   "execution_count": null,
   "metadata": {
    "colab": {
     "base_uri": "https://localhost:8080/",
     "height": 34
    },
    "colab_type": "code",
    "id": "Ncy1WFi540pS",
    "outputId": "5ff960d8-a609-49bf-a177-73534ffae52d"
   },
   "outputs": [
    {
     "name": "stdout",
     "output_type": "stream",
     "text": [
      "Accuracy of logistic regression classifier on test set: 0.88\n"
     ]
    }
   ],
   "source": [
    "y_pred = logreg.predict(X_test)\n",
    "print('Accuracy of logistic regression classifier on test set: {:.2f}'.format(logreg.score(X_test, y_test)))\n",
    "\n",
    "#New accuracy!!"
   ]
  },
  {
   "cell_type": "code",
   "execution_count": null,
   "metadata": {
    "colab": {
     "base_uri": "https://localhost:8080/",
     "height": 52
    },
    "colab_type": "code",
    "id": "cnyTOXi644MJ",
    "outputId": "0b2d2c94-5021-40fa-ffd9-51d28f4f54d2"
   },
   "outputs": [
    {
     "name": "stdout",
     "output_type": "stream",
     "text": [
      "[[63  5]\n",
      " [11 57]]\n"
     ]
    }
   ],
   "source": [
    "from sklearn.metrics import confusion_matrix\n",
    "confusion_matrix = confusion_matrix(y_test, y_pred)\n",
    "print(confusion_matrix)\n",
    "\n",
    "# The result is telling us that we have 63+57 correct predictions and 5+11 incorrect predictions."
   ]
  },
  {
   "cell_type": "markdown",
   "metadata": {
    "colab_type": "text",
    "id": "seI7YkDp4_od"
   },
   "source": [
    "- Stopped focuing from here, pick up from here!\n",
    "\n",
    "Compute precision, recall, F-measure and support"
   ]
  },
  {
   "cell_type": "code",
   "execution_count": null,
   "metadata": {
    "colab": {
     "base_uri": "https://localhost:8080/",
     "height": 173
    },
    "colab_type": "code",
    "id": "CFNBMnhZ49LD",
    "outputId": "8e4c5823-8ee0-47b9-d241-323c61bf1d1b"
   },
   "outputs": [
    {
     "name": "stdout",
     "output_type": "stream",
     "text": [
      "              precision    recall  f1-score   support\n",
      "\n",
      "           0       0.85      0.93      0.89        68\n",
      "           1       0.92      0.84      0.88        68\n",
      "\n",
      "    accuracy                           0.88       136\n",
      "   macro avg       0.89      0.88      0.88       136\n",
      "weighted avg       0.89      0.88      0.88       136\n",
      "\n"
     ]
    }
   ],
   "source": [
    "from sklearn.metrics import classification_report\n",
    "print(classification_report(y_test, y_pred))"
   ]
  },
  {
   "cell_type": "code",
   "execution_count": null,
   "metadata": {
    "colab": {
     "base_uri": "https://localhost:8080/",
     "height": 301
    },
    "colab_type": "code",
    "id": "Dduc_WGd5Keg",
    "outputId": "f5708c9d-8fc3-4f7d-e2d7-027a08457baa"
   },
   "outputs": [
    {
     "data": {
      "image/png": "[encoded data removed]",
      "text/plain": [
       "<Figure size 432x288 with 1 Axes>"
      ]
     },
     "metadata": {
      "needs_background": "light",
      "tags": []
     },
     "output_type": "display_data"
    }
   ],
   "source": [
    "# ROC Curve\n",
    "\n",
    "from sklearn.metrics import roc_auc_score\n",
    "from sklearn.metrics import roc_curve\n",
    "logit_roc_auc = roc_auc_score(y_test, logreg.predict(X_test))\n",
    "fpr, tpr, thresholds = roc_curve(y_test, logreg.predict_proba(X_test)[:,1])\n",
    "plt.figure()\n",
    "plt.plot(fpr, tpr, label='Logistic Regression (area = %0.2f)' % logit_roc_auc)\n",
    "plt.plot([0, 1], [0, 1],'r--')\n",
    "plt.xlim([0.0, 1.0])\n",
    "plt.ylim([0.0, 1.05])\n",
    "plt.xlabel('False Positive Rate')\n",
    "plt.ylabel('True Positive Rate')\n",
    "plt.title('Receiver operating characteristic')\n",
    "plt.legend(loc=\"lower right\")\n",
    "plt.savefig('Log_ROC')\n",
    "plt.show()"
   ]
  },
  {
   "cell_type": "markdown",
   "metadata": {
    "colab_type": "text",
    "id": "M9Ir7F32XkLX"
   },
   "source": [
    "The receiver operating characteristic (ROC) curve is another common tool used with binary classifiers. The dotted line represents the ROC curve of a purely random classifier; a good classifier stays as far away from that line as possible (toward the top-left corner)."
   ]
  }
 ],
 "metadata": {
  "colab": {
   "collapsed_sections": [],
   "include_colab_link": true,
   "name": "diabetes-classification",
   "provenance": []
  },
  "kernelspec": {
   "display_name": "Python 3",
   "language": "python",
   "name": "python3"
  },
  "language_info": {
   "codemirror_mode": {
    "name": "ipython",
    "version": 3
   },
   "file_extension": ".py",
   "mimetype": "text/x-python",
   "name": "python",
   "nbconvert_exporter": "python",
   "pygments_lexer": "ipython3",
   "version": "3.6.12"
  }
 },
 "nbformat": 4,
 "nbformat_minor": 1
}
