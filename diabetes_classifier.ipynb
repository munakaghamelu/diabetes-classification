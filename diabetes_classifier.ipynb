{
 "cells": [
  {
   "cell_type": "markdown",
   "metadata": {},
   "source": [
    "### Installations"
   ]
  },
  {
   "cell_type": "code",
   "execution_count": 43,
   "metadata": {},
   "outputs": [
    {
     "name": "stdout",
     "output_type": "stream",
     "text": [
      "  Downloading statsmodels-0.12.2-cp36-cp36m-manylinux1_x86_64.whl (9.5 MB)\n",
      "\u001b[K     |████████████████████████████████| 9.5 MB 3.0 MB/s eta 0:00:01     |██████████████▋                 | 4.3 MB 2.8 MB/s eta 0:00:02\n",
      "\u001b[?25hCollecting patsy>=0.5\n",
      "  Downloading patsy-0.5.1-py2.py3-none-any.whl (231 kB)\n",
      "\u001b[K     |████████████████████████████████| 231 kB 1.8 MB/s eta 0:00:01\n",
      "\u001b[?25hRequirement already satisfied: pandas>=0.21 in /home/muna/anaconda3/envs/env_pytorch/lib/python3.6/site-packages (from statsmodels) (1.1.5)\n",
      "Requirement already satisfied: scipy>=1.1 in /home/muna/anaconda3/envs/env_pytorch/lib/python3.6/site-packages (from statsmodels) (1.5.4)\n",
      "Requirement already satisfied: numpy>=1.15 in /home/muna/anaconda3/envs/env_pytorch/lib/python3.6/site-packages (from statsmodels) (1.19.2)\n",
      "Requirement already satisfied: six in /home/muna/anaconda3/envs/env_pytorch/lib/python3.6/site-packages (from patsy>=0.5->statsmodels) (1.15.0)\n",
      "Requirement already satisfied: pytz>=2017.2 in /home/muna/anaconda3/envs/env_pytorch/lib/python3.6/site-packages (from pandas>=0.21->statsmodels) (2021.1)\n",
      "Requirement already satisfied: python-dateutil>=2.7.3 in /home/muna/anaconda3/envs/env_pytorch/lib/python3.6/site-packages (from pandas>=0.21->statsmodels) (2.8.1)\n",
      "Installing collected packages: patsy, statsmodels\n",
      "Successfully installed patsy-0.5.1 statsmodels-0.12.2\n"
     ]
    }
   ],
   "source": [
    "!pip install pandas\n",
    "!pip install sklearn\n",
    "!pip install seaborn\n",
    "!pip install imblearn\n",
    "!pip install statsmodels"
   ]
  },
  {
   "cell_type": "markdown",
   "metadata": {},
   "source": [
    "### Imports"
   ]
  },
  {
   "cell_type": "code",
   "execution_count": 44,
   "metadata": {},
   "outputs": [],
   "source": [
    "import pandas as pd\n",
    "import numpy as np\n",
    "from sklearn import preprocessing\n",
    "import matplotlib.pyplot as plt\n",
    "import seaborn as sns\n",
    "import math\n",
    "import statsmodels.api as sm\n",
    "import imblearn\n",
    "\n",
    "from sklearn.linear_model import LogisticRegression\n",
    "from sklearn.model_selection import train_test_split\n",
    "from imblearn.over_sampling import SMOTE\n",
    "from sklearn.feature_selection import RFE\n",
    "from sklearn.linear_model import LogisticRegression\n",
    "from sklearn.preprocessing import StandardScaler\n",
    "\n",
    "# Styling\n",
    "plt.rc(\"font\", size=14)\n",
    "sns.set(style=\"white\")\n",
    "sns.set(style=\"whitegrid\", color_codes=True)"
   ]
  },
  {
   "cell_type": "markdown",
   "metadata": {},
   "source": [
    "### Loading the data\n",
    "The data I retrieved contains 520 rows and 17 columns, the 17 columns are different features or symptoms of a diabetic, and the dataset is a collection of 520 people."
   ]
  },
  {
   "cell_type": "markdown",
   "metadata": {},
   "source": [
    "### Insight\n",
    "\n",
    "Because the data doesn't have many attributes with too many columns, e.g. multivalued attrbitues, I don't need to do any reduction which would mean dividing up the values in multivalued attributes"
   ]
  },
  {
   "cell_type": "code",
   "execution_count": 3,
   "metadata": {},
   "outputs": [
    {
     "name": "stdout",
     "output_type": "stream",
     "text": [
      "(520, 17)\n",
      "['Age', 'Gender', 'Polyuria', 'Polydipsia', 'sudden weight loss', 'weakness', 'Polyphagia', 'Genital thrush', 'visual blurring', 'Itching', 'Irritability', 'delayed healing', 'partial paresis', 'muscle stiffness', 'Alopecia', 'Obesity', 'y']\n"
     ]
    },
    {
     "data": {
      "text/html": [
       "<div>\n",
       "<style scoped>\n",
       "    .dataframe tbody tr th:only-of-type {\n",
       "        vertical-align: middle;\n",
       "    }\n",
       "\n",
       "    .dataframe tbody tr th {\n",
       "        vertical-align: top;\n",
       "    }\n",
       "\n",
       "    .dataframe thead th {\n",
       "        text-align: right;\n",
       "    }\n",
       "</style>\n",
       "<table border=\"1\" class=\"dataframe\">\n",
       "  <thead>\n",
       "    <tr style=\"text-align: right;\">\n",
       "      <th></th>\n",
       "      <th>Age</th>\n",
       "      <th>Gender</th>\n",
       "      <th>Polyuria</th>\n",
       "      <th>Polydipsia</th>\n",
       "      <th>sudden weight loss</th>\n",
       "      <th>weakness</th>\n",
       "      <th>Polyphagia</th>\n",
       "      <th>Genital thrush</th>\n",
       "      <th>visual blurring</th>\n",
       "      <th>Itching</th>\n",
       "      <th>Irritability</th>\n",
       "      <th>delayed healing</th>\n",
       "      <th>partial paresis</th>\n",
       "      <th>muscle stiffness</th>\n",
       "      <th>Alopecia</th>\n",
       "      <th>Obesity</th>\n",
       "      <th>y</th>\n",
       "    </tr>\n",
       "  </thead>\n",
       "  <tbody>\n",
       "    <tr>\n",
       "      <th>0</th>\n",
       "      <td>40</td>\n",
       "      <td>Male</td>\n",
       "      <td>No</td>\n",
       "      <td>Yes</td>\n",
       "      <td>No</td>\n",
       "      <td>Yes</td>\n",
       "      <td>No</td>\n",
       "      <td>No</td>\n",
       "      <td>No</td>\n",
       "      <td>Yes</td>\n",
       "      <td>No</td>\n",
       "      <td>Yes</td>\n",
       "      <td>No</td>\n",
       "      <td>Yes</td>\n",
       "      <td>Yes</td>\n",
       "      <td>Yes</td>\n",
       "      <td>Positive</td>\n",
       "    </tr>\n",
       "    <tr>\n",
       "      <th>1</th>\n",
       "      <td>58</td>\n",
       "      <td>Male</td>\n",
       "      <td>No</td>\n",
       "      <td>No</td>\n",
       "      <td>No</td>\n",
       "      <td>Yes</td>\n",
       "      <td>No</td>\n",
       "      <td>No</td>\n",
       "      <td>Yes</td>\n",
       "      <td>No</td>\n",
       "      <td>No</td>\n",
       "      <td>No</td>\n",
       "      <td>Yes</td>\n",
       "      <td>No</td>\n",
       "      <td>Yes</td>\n",
       "      <td>No</td>\n",
       "      <td>Positive</td>\n",
       "    </tr>\n",
       "    <tr>\n",
       "      <th>2</th>\n",
       "      <td>41</td>\n",
       "      <td>Male</td>\n",
       "      <td>Yes</td>\n",
       "      <td>No</td>\n",
       "      <td>No</td>\n",
       "      <td>Yes</td>\n",
       "      <td>Yes</td>\n",
       "      <td>No</td>\n",
       "      <td>No</td>\n",
       "      <td>Yes</td>\n",
       "      <td>No</td>\n",
       "      <td>Yes</td>\n",
       "      <td>No</td>\n",
       "      <td>Yes</td>\n",
       "      <td>Yes</td>\n",
       "      <td>No</td>\n",
       "      <td>Positive</td>\n",
       "    </tr>\n",
       "    <tr>\n",
       "      <th>3</th>\n",
       "      <td>45</td>\n",
       "      <td>Male</td>\n",
       "      <td>No</td>\n",
       "      <td>No</td>\n",
       "      <td>Yes</td>\n",
       "      <td>Yes</td>\n",
       "      <td>Yes</td>\n",
       "      <td>Yes</td>\n",
       "      <td>No</td>\n",
       "      <td>Yes</td>\n",
       "      <td>No</td>\n",
       "      <td>Yes</td>\n",
       "      <td>No</td>\n",
       "      <td>No</td>\n",
       "      <td>No</td>\n",
       "      <td>No</td>\n",
       "      <td>Positive</td>\n",
       "    </tr>\n",
       "    <tr>\n",
       "      <th>4</th>\n",
       "      <td>60</td>\n",
       "      <td>Male</td>\n",
       "      <td>Yes</td>\n",
       "      <td>Yes</td>\n",
       "      <td>Yes</td>\n",
       "      <td>Yes</td>\n",
       "      <td>Yes</td>\n",
       "      <td>No</td>\n",
       "      <td>Yes</td>\n",
       "      <td>Yes</td>\n",
       "      <td>Yes</td>\n",
       "      <td>Yes</td>\n",
       "      <td>Yes</td>\n",
       "      <td>Yes</td>\n",
       "      <td>Yes</td>\n",
       "      <td>Yes</td>\n",
       "      <td>Positive</td>\n",
       "    </tr>\n",
       "  </tbody>\n",
       "</table>\n",
       "</div>"
      ],
      "text/plain": [
       "   Age Gender Polyuria Polydipsia sudden weight loss weakness Polyphagia  \\\n",
       "0   40   Male       No        Yes                 No      Yes         No   \n",
       "1   58   Male       No         No                 No      Yes         No   \n",
       "2   41   Male      Yes         No                 No      Yes        Yes   \n",
       "3   45   Male       No         No                Yes      Yes        Yes   \n",
       "4   60   Male      Yes        Yes                Yes      Yes        Yes   \n",
       "\n",
       "  Genital thrush visual blurring Itching Irritability delayed healing  \\\n",
       "0             No              No     Yes           No             Yes   \n",
       "1             No             Yes      No           No              No   \n",
       "2             No              No     Yes           No             Yes   \n",
       "3            Yes              No     Yes           No             Yes   \n",
       "4             No             Yes     Yes          Yes             Yes   \n",
       "\n",
       "  partial paresis muscle stiffness Alopecia Obesity         y  \n",
       "0              No              Yes      Yes     Yes  Positive  \n",
       "1             Yes               No      Yes      No  Positive  \n",
       "2              No              Yes      Yes      No  Positive  \n",
       "3              No               No       No      No  Positive  \n",
       "4             Yes              Yes      Yes     Yes  Positive  "
      ]
     },
     "execution_count": 3,
     "metadata": {},
     "output_type": "execute_result"
    }
   ],
   "source": [
    "# loading data from Amazon SW3 Bucket\n",
    "data = pd.read_csv('https://diabetes-data-mka.s3.eu-west-2.amazonaws.com/diabetes_data_upload.csv', header=0)\n",
    "\n",
    "# removing any null attributes\n",
    "data = data.dropna()\n",
    "\n",
    "# display some information about the data for a better understanding\n",
    "print(data.shape)\n",
    "print(list(data.columns))\n",
    "\n",
    "# gives you the first 5 rows entries in dataset\n",
    "data.head()"
   ]
  },
  {
   "cell_type": "markdown",
   "metadata": {},
   "source": [
    "### Data Exploration through visualization\n",
    "I use seaborn to display a bar chart of the number of people in the table who actually have diabetes and who don't, despite the symptoms they have."
   ]
  },
  {
   "cell_type": "markdown",
   "metadata": {},
   "source": [
    "### Insight\n",
    "\n",
    "The number of people who are positive with diabetes is almost double that of negative, so our dataset is imbalanced. We must do something to balance the data out!"
   ]
  },
  {
   "cell_type": "code",
   "execution_count": 4,
   "metadata": {},
   "outputs": [
    {
     "data": {
      "image/png": "[encoded data removed]",
      "text/plain": [
       "<Figure size 432x288 with 1 Axes>"
      ]
     },
     "metadata": {},
     "output_type": "display_data"
    },
    {
     "data": {
      "text/plain": [
       "<Figure size 432x288 with 0 Axes>"
      ]
     },
     "metadata": {},
     "output_type": "display_data"
    }
   ],
   "source": [
    "# data is loaded as a numpy array so it as properties such as value_counts, see spec\n",
    "data['y'].value_counts()\n",
    "sns.countplot(x='y', data=data, palette='hls')\n",
    "plt.show()\n",
    "plt.savefig('count_plot')"
   ]
  },
  {
   "cell_type": "markdown",
   "metadata": {},
   "source": [
    "Before I can balance the dataset, I must change the labels so they're binary rather than strings of 'Positive' and 'Negative'. I also do this for the 'Yes' and 'No' indications of symptoms in the table. (Have a look at the final column 'y' and the display of the data above)"
   ]
  },
  {
   "cell_type": "code",
   "execution_count": 5,
   "metadata": {},
   "outputs": [
    {
     "data": {
      "text/html": [
       "<div>\n",
       "<style scoped>\n",
       "    .dataframe tbody tr th:only-of-type {\n",
       "        vertical-align: middle;\n",
       "    }\n",
       "\n",
       "    .dataframe tbody tr th {\n",
       "        vertical-align: top;\n",
       "    }\n",
       "\n",
       "    .dataframe thead th {\n",
       "        text-align: right;\n",
       "    }\n",
       "</style>\n",
       "<table border=\"1\" class=\"dataframe\">\n",
       "  <thead>\n",
       "    <tr style=\"text-align: right;\">\n",
       "      <th></th>\n",
       "      <th>Age</th>\n",
       "      <th>Gender</th>\n",
       "      <th>Polyuria</th>\n",
       "      <th>Polydipsia</th>\n",
       "      <th>sudden weight loss</th>\n",
       "      <th>weakness</th>\n",
       "      <th>Polyphagia</th>\n",
       "      <th>Genital thrush</th>\n",
       "      <th>visual blurring</th>\n",
       "      <th>Itching</th>\n",
       "      <th>Irritability</th>\n",
       "      <th>delayed healing</th>\n",
       "      <th>partial paresis</th>\n",
       "      <th>muscle stiffness</th>\n",
       "      <th>Alopecia</th>\n",
       "      <th>Obesity</th>\n",
       "      <th>y</th>\n",
       "    </tr>\n",
       "  </thead>\n",
       "  <tbody>\n",
       "    <tr>\n",
       "      <th>0</th>\n",
       "      <td>40</td>\n",
       "      <td>Male</td>\n",
       "      <td>No</td>\n",
       "      <td>Yes</td>\n",
       "      <td>No</td>\n",
       "      <td>Yes</td>\n",
       "      <td>No</td>\n",
       "      <td>No</td>\n",
       "      <td>No</td>\n",
       "      <td>Yes</td>\n",
       "      <td>No</td>\n",
       "      <td>Yes</td>\n",
       "      <td>No</td>\n",
       "      <td>Yes</td>\n",
       "      <td>Yes</td>\n",
       "      <td>Yes</td>\n",
       "      <td>1</td>\n",
       "    </tr>\n",
       "    <tr>\n",
       "      <th>1</th>\n",
       "      <td>58</td>\n",
       "      <td>Male</td>\n",
       "      <td>No</td>\n",
       "      <td>No</td>\n",
       "      <td>No</td>\n",
       "      <td>Yes</td>\n",
       "      <td>No</td>\n",
       "      <td>No</td>\n",
       "      <td>Yes</td>\n",
       "      <td>No</td>\n",
       "      <td>No</td>\n",
       "      <td>No</td>\n",
       "      <td>Yes</td>\n",
       "      <td>No</td>\n",
       "      <td>Yes</td>\n",
       "      <td>No</td>\n",
       "      <td>1</td>\n",
       "    </tr>\n",
       "    <tr>\n",
       "      <th>2</th>\n",
       "      <td>41</td>\n",
       "      <td>Male</td>\n",
       "      <td>Yes</td>\n",
       "      <td>No</td>\n",
       "      <td>No</td>\n",
       "      <td>Yes</td>\n",
       "      <td>Yes</td>\n",
       "      <td>No</td>\n",
       "      <td>No</td>\n",
       "      <td>Yes</td>\n",
       "      <td>No</td>\n",
       "      <td>Yes</td>\n",
       "      <td>No</td>\n",
       "      <td>Yes</td>\n",
       "      <td>Yes</td>\n",
       "      <td>No</td>\n",
       "      <td>1</td>\n",
       "    </tr>\n",
       "    <tr>\n",
       "      <th>3</th>\n",
       "      <td>45</td>\n",
       "      <td>Male</td>\n",
       "      <td>No</td>\n",
       "      <td>No</td>\n",
       "      <td>Yes</td>\n",
       "      <td>Yes</td>\n",
       "      <td>Yes</td>\n",
       "      <td>Yes</td>\n",
       "      <td>No</td>\n",
       "      <td>Yes</td>\n",
       "      <td>No</td>\n",
       "      <td>Yes</td>\n",
       "      <td>No</td>\n",
       "      <td>No</td>\n",
       "      <td>No</td>\n",
       "      <td>No</td>\n",
       "      <td>1</td>\n",
       "    </tr>\n",
       "    <tr>\n",
       "      <th>4</th>\n",
       "      <td>60</td>\n",
       "      <td>Male</td>\n",
       "      <td>Yes</td>\n",
       "      <td>Yes</td>\n",
       "      <td>Yes</td>\n",
       "      <td>Yes</td>\n",
       "      <td>Yes</td>\n",
       "      <td>No</td>\n",
       "      <td>Yes</td>\n",
       "      <td>Yes</td>\n",
       "      <td>Yes</td>\n",
       "      <td>Yes</td>\n",
       "      <td>Yes</td>\n",
       "      <td>Yes</td>\n",
       "      <td>Yes</td>\n",
       "      <td>Yes</td>\n",
       "      <td>1</td>\n",
       "    </tr>\n",
       "  </tbody>\n",
       "</table>\n",
       "</div>"
      ],
      "text/plain": [
       "   Age Gender Polyuria Polydipsia sudden weight loss weakness Polyphagia  \\\n",
       "0   40   Male       No        Yes                 No      Yes         No   \n",
       "1   58   Male       No         No                 No      Yes         No   \n",
       "2   41   Male      Yes         No                 No      Yes        Yes   \n",
       "3   45   Male       No         No                Yes      Yes        Yes   \n",
       "4   60   Male      Yes        Yes                Yes      Yes        Yes   \n",
       "\n",
       "  Genital thrush visual blurring Itching Irritability delayed healing  \\\n",
       "0             No              No     Yes           No             Yes   \n",
       "1             No             Yes      No           No              No   \n",
       "2             No              No     Yes           No             Yes   \n",
       "3            Yes              No     Yes           No             Yes   \n",
       "4             No             Yes     Yes          Yes             Yes   \n",
       "\n",
       "  partial paresis muscle stiffness Alopecia Obesity  y  \n",
       "0              No              Yes      Yes     Yes  1  \n",
       "1             Yes               No      Yes      No  1  \n",
       "2              No              Yes      Yes      No  1  \n",
       "3              No               No       No      No  1  \n",
       "4             Yes              Yes      Yes     Yes  1  "
      ]
     },
     "execution_count": 5,
     "metadata": {},
     "output_type": "execute_result"
    }
   ],
   "source": [
    "data.y.replace(('Positive', 'Negative'), (1, 0), inplace=True)\n",
    "data.head()"
   ]
  },
  {
   "cell_type": "code",
   "execution_count": 6,
   "metadata": {},
   "outputs": [
    {
     "data": {
      "text/html": [
       "<div>\n",
       "<style scoped>\n",
       "    .dataframe tbody tr th:only-of-type {\n",
       "        vertical-align: middle;\n",
       "    }\n",
       "\n",
       "    .dataframe tbody tr th {\n",
       "        vertical-align: top;\n",
       "    }\n",
       "\n",
       "    .dataframe thead th {\n",
       "        text-align: right;\n",
       "    }\n",
       "</style>\n",
       "<table border=\"1\" class=\"dataframe\">\n",
       "  <thead>\n",
       "    <tr style=\"text-align: right;\">\n",
       "      <th></th>\n",
       "      <th>Age</th>\n",
       "      <th>Gender</th>\n",
       "      <th>Polyuria</th>\n",
       "      <th>Polydipsia</th>\n",
       "      <th>sudden weight loss</th>\n",
       "      <th>weakness</th>\n",
       "      <th>Polyphagia</th>\n",
       "      <th>Genital thrush</th>\n",
       "      <th>visual blurring</th>\n",
       "      <th>Itching</th>\n",
       "      <th>Irritability</th>\n",
       "      <th>delayed healing</th>\n",
       "      <th>partial paresis</th>\n",
       "      <th>muscle stiffness</th>\n",
       "      <th>Alopecia</th>\n",
       "      <th>Obesity</th>\n",
       "      <th>y</th>\n",
       "    </tr>\n",
       "  </thead>\n",
       "  <tbody>\n",
       "    <tr>\n",
       "      <th>0</th>\n",
       "      <td>40</td>\n",
       "      <td>Male</td>\n",
       "      <td>0</td>\n",
       "      <td>1</td>\n",
       "      <td>0</td>\n",
       "      <td>1</td>\n",
       "      <td>0</td>\n",
       "      <td>0</td>\n",
       "      <td>0</td>\n",
       "      <td>1</td>\n",
       "      <td>0</td>\n",
       "      <td>1</td>\n",
       "      <td>0</td>\n",
       "      <td>1</td>\n",
       "      <td>1</td>\n",
       "      <td>1</td>\n",
       "      <td>1</td>\n",
       "    </tr>\n",
       "    <tr>\n",
       "      <th>1</th>\n",
       "      <td>58</td>\n",
       "      <td>Male</td>\n",
       "      <td>0</td>\n",
       "      <td>0</td>\n",
       "      <td>0</td>\n",
       "      <td>1</td>\n",
       "      <td>0</td>\n",
       "      <td>0</td>\n",
       "      <td>1</td>\n",
       "      <td>0</td>\n",
       "      <td>0</td>\n",
       "      <td>0</td>\n",
       "      <td>1</td>\n",
       "      <td>0</td>\n",
       "      <td>1</td>\n",
       "      <td>0</td>\n",
       "      <td>1</td>\n",
       "    </tr>\n",
       "    <tr>\n",
       "      <th>2</th>\n",
       "      <td>41</td>\n",
       "      <td>Male</td>\n",
       "      <td>1</td>\n",
       "      <td>0</td>\n",
       "      <td>0</td>\n",
       "      <td>1</td>\n",
       "      <td>1</td>\n",
       "      <td>0</td>\n",
       "      <td>0</td>\n",
       "      <td>1</td>\n",
       "      <td>0</td>\n",
       "      <td>1</td>\n",
       "      <td>0</td>\n",
       "      <td>1</td>\n",
       "      <td>1</td>\n",
       "      <td>0</td>\n",
       "      <td>1</td>\n",
       "    </tr>\n",
       "    <tr>\n",
       "      <th>3</th>\n",
       "      <td>45</td>\n",
       "      <td>Male</td>\n",
       "      <td>0</td>\n",
       "      <td>0</td>\n",
       "      <td>1</td>\n",
       "      <td>1</td>\n",
       "      <td>1</td>\n",
       "      <td>1</td>\n",
       "      <td>0</td>\n",
       "      <td>1</td>\n",
       "      <td>0</td>\n",
       "      <td>1</td>\n",
       "      <td>0</td>\n",
       "      <td>0</td>\n",
       "      <td>0</td>\n",
       "      <td>0</td>\n",
       "      <td>1</td>\n",
       "    </tr>\n",
       "    <tr>\n",
       "      <th>4</th>\n",
       "      <td>60</td>\n",
       "      <td>Male</td>\n",
       "      <td>1</td>\n",
       "      <td>1</td>\n",
       "      <td>1</td>\n",
       "      <td>1</td>\n",
       "      <td>1</td>\n",
       "      <td>0</td>\n",
       "      <td>1</td>\n",
       "      <td>1</td>\n",
       "      <td>1</td>\n",
       "      <td>1</td>\n",
       "      <td>1</td>\n",
       "      <td>1</td>\n",
       "      <td>1</td>\n",
       "      <td>1</td>\n",
       "      <td>1</td>\n",
       "    </tr>\n",
       "  </tbody>\n",
       "</table>\n",
       "</div>"
      ],
      "text/plain": [
       "   Age Gender  Polyuria  Polydipsia  sudden weight loss  weakness  Polyphagia  \\\n",
       "0   40   Male         0           1                   0         1           0   \n",
       "1   58   Male         0           0                   0         1           0   \n",
       "2   41   Male         1           0                   0         1           1   \n",
       "3   45   Male         0           0                   1         1           1   \n",
       "4   60   Male         1           1                   1         1           1   \n",
       "\n",
       "   Genital thrush  visual blurring  Itching  Irritability  delayed healing  \\\n",
       "0               0                0        1             0                1   \n",
       "1               0                1        0             0                0   \n",
       "2               0                0        1             0                1   \n",
       "3               1                0        1             0                1   \n",
       "4               0                1        1             1                1   \n",
       "\n",
       "   partial paresis  muscle stiffness  Alopecia  Obesity  y  \n",
       "0                0                 1         1        1  1  \n",
       "1                1                 0         1        0  1  \n",
       "2                0                 1         1        0  1  \n",
       "3                0                 0         0        0  1  \n",
       "4                1                 1         1        1  1  "
      ]
     },
     "execution_count": 6,
     "metadata": {},
     "output_type": "execute_result"
    }
   ],
   "source": [
    "data.replace('Yes', 1, inplace=True)\n",
    "data.replace('No', 0, inplace=True)\n",
    "data.head()"
   ]
  },
  {
   "cell_type": "code",
   "execution_count": 7,
   "metadata": {},
   "outputs": [
    {
     "name": "stdout",
     "output_type": "stream",
     "text": [
      "Percentage of people without diabetes is: 38.46153846153847\n",
      "Percentage of people with diabetes is: 61.53846153846154\n",
      "Ratio of diabetics to none diabetics is: 61:38\n"
     ]
    }
   ],
   "source": [
    "# data[data['y']] -> get the index of the column with value 'y' and then check the value in that index is equal to 0, e.g. negative\n",
    "count_none_diabetics = len(data[data['y']==0])\n",
    "count_diabetics = len(data[data['y']==1])\n",
    "\n",
    "perc_none_diabetics = (count_none_diabetics/(count_none_diabetics + count_diabetics))*100\n",
    "perc_diabetics = (count_diabetics/(count_diabetics + count_none_diabetics))*100\n",
    "\n",
    "print(\"Percentage of people without diabetes is: {}\".format(perc_none_diabetics))\n",
    "print(\"Percentage of people with diabetes is: {}\".format(perc_diabetics))\n",
    "\n",
    "print(\"Ratio of diabetics to none diabetics is: {}:{}\". format(math.trunc(perc_diabetics), math.trunc(perc_none_diabetics)))"
   ]
  },
  {
   "cell_type": "code",
   "execution_count": 8,
   "metadata": {},
   "outputs": [
    {
     "data": {
      "text/html": [
       "<div>\n",
       "<style scoped>\n",
       "    .dataframe tbody tr th:only-of-type {\n",
       "        vertical-align: middle;\n",
       "    }\n",
       "\n",
       "    .dataframe tbody tr th {\n",
       "        vertical-align: top;\n",
       "    }\n",
       "\n",
       "    .dataframe thead th {\n",
       "        text-align: right;\n",
       "    }\n",
       "</style>\n",
       "<table border=\"1\" class=\"dataframe\">\n",
       "  <thead>\n",
       "    <tr style=\"text-align: right;\">\n",
       "      <th></th>\n",
       "      <th>Age</th>\n",
       "      <th>Polyuria</th>\n",
       "      <th>Polydipsia</th>\n",
       "      <th>sudden weight loss</th>\n",
       "      <th>weakness</th>\n",
       "      <th>Polyphagia</th>\n",
       "      <th>Genital thrush</th>\n",
       "      <th>visual blurring</th>\n",
       "      <th>Itching</th>\n",
       "      <th>Irritability</th>\n",
       "      <th>delayed healing</th>\n",
       "      <th>partial paresis</th>\n",
       "      <th>muscle stiffness</th>\n",
       "      <th>Alopecia</th>\n",
       "      <th>Obesity</th>\n",
       "    </tr>\n",
       "    <tr>\n",
       "      <th>y</th>\n",
       "      <th></th>\n",
       "      <th></th>\n",
       "      <th></th>\n",
       "      <th></th>\n",
       "      <th></th>\n",
       "      <th></th>\n",
       "      <th></th>\n",
       "      <th></th>\n",
       "      <th></th>\n",
       "      <th></th>\n",
       "      <th></th>\n",
       "      <th></th>\n",
       "      <th></th>\n",
       "      <th></th>\n",
       "      <th></th>\n",
       "    </tr>\n",
       "  </thead>\n",
       "  <tbody>\n",
       "    <tr>\n",
       "      <th>0</th>\n",
       "      <td>46.360000</td>\n",
       "      <td>0.075000</td>\n",
       "      <td>0.040000</td>\n",
       "      <td>0.1450</td>\n",
       "      <td>0.43500</td>\n",
       "      <td>0.240000</td>\n",
       "      <td>0.165000</td>\n",
       "      <td>0.290000</td>\n",
       "      <td>0.49500</td>\n",
       "      <td>0.08000</td>\n",
       "      <td>0.430000</td>\n",
       "      <td>0.16</td>\n",
       "      <td>0.300000</td>\n",
       "      <td>0.50500</td>\n",
       "      <td>0.135000</td>\n",
       "    </tr>\n",
       "    <tr>\n",
       "      <th>1</th>\n",
       "      <td>49.071875</td>\n",
       "      <td>0.759375</td>\n",
       "      <td>0.703125</td>\n",
       "      <td>0.5875</td>\n",
       "      <td>0.68125</td>\n",
       "      <td>0.590625</td>\n",
       "      <td>0.259375</td>\n",
       "      <td>0.546875</td>\n",
       "      <td>0.48125</td>\n",
       "      <td>0.34375</td>\n",
       "      <td>0.478125</td>\n",
       "      <td>0.60</td>\n",
       "      <td>0.421875</td>\n",
       "      <td>0.24375</td>\n",
       "      <td>0.190625</td>\n",
       "    </tr>\n",
       "  </tbody>\n",
       "</table>\n",
       "</div>"
      ],
      "text/plain": [
       "         Age  Polyuria  Polydipsia  sudden weight loss  weakness  Polyphagia  \\\n",
       "y                                                                              \n",
       "0  46.360000  0.075000    0.040000              0.1450   0.43500    0.240000   \n",
       "1  49.071875  0.759375    0.703125              0.5875   0.68125    0.590625   \n",
       "\n",
       "   Genital thrush  visual blurring  Itching  Irritability  delayed healing  \\\n",
       "y                                                                            \n",
       "0        0.165000         0.290000  0.49500       0.08000         0.430000   \n",
       "1        0.259375         0.546875  0.48125       0.34375         0.478125   \n",
       "\n",
       "   partial paresis  muscle stiffness  Alopecia   Obesity  \n",
       "y                                                         \n",
       "0             0.16          0.300000   0.50500  0.135000  \n",
       "1             0.60          0.421875   0.24375  0.190625  "
      ]
     },
     "execution_count": 8,
     "metadata": {},
     "output_type": "execute_result"
    }
   ],
   "source": [
    "data.groupby('y').mean()"
   ]
  },
  {
   "cell_type": "markdown",
   "metadata": {},
   "source": [
    "### Insight\n",
    "\n",
    "- The average age of patients with Diabetes is only higher for patients who don't have it\n",
    "- Intrestingly, the number of people with Alopecia are higher for people without diabetes, it is possible Alopecia isn't directly linked to diabetes\n",
    "\n",
    "Some of the columns are labeled with multiple words so i'm going to change them to single words, this will help with manipulating the data later"
   ]
  },
  {
   "cell_type": "code",
   "execution_count": 9,
   "metadata": {},
   "outputs": [
    {
     "name": "stdout",
     "output_type": "stream",
     "text": [
      "Index(['Age', 'Gender', 'Polyuria', 'Polydipsia', 'WeightLoss', 'weakness',\n",
      "       'Polyphagia', 'GenitalThrush', 'VisualBlurring', 'Itching',\n",
      "       'Irritability', 'DelayedHealing', 'PartialParesis', 'MuscleStiffness',\n",
      "       'Alopecia', 'Obesity', 'y'],\n",
      "      dtype='object')\n"
     ]
    }
   ],
   "source": [
    "data.rename(columns={'sudden weight loss': 'WeightLoss', 'Genital thrush': 'GenitalThrush', 'visual blurring': 'VisualBlurring', 'delayed healing': 'DelayedHealing', 'partial paresis': 'PartialParesis', 'muscle stiffness': 'MuscleStiffness'}, inplace=True)\n",
    "print(data.columns)"
   ]
  },
  {
   "cell_type": "markdown",
   "metadata": {},
   "source": [
    "### Data Visualization with matplotlib \n",
    "\n",
    "Trying to figure out what is a good indicator for diabetes, so producing barcharts to find a clear disparity between the number of none diabetics and diabetics"
   ]
  },
  {
   "cell_type": "code",
   "execution_count": 10,
   "metadata": {},
   "outputs": [
    {
     "data": {
      "image/png": "[encoded data removed]",
      "text/plain": [
       "<Figure size 432x288 with 1 Axes>"
      ]
     },
     "metadata": {
      "needs_background": "light"
     },
     "output_type": "display_data"
    }
   ],
   "source": [
    "%matplotlib inline\n",
    "\n",
    "# Use pandas to determine the type of table to display, providing an x and y axis\n",
    "pd.crosstab(data.Age,data.y).plot(kind='bar')\n",
    "\n",
    "# Plot the titles of the axis\n",
    "plt.title('Age and Diabetes').set_color('black')\n",
    "\n",
    "# Plot the x label\n",
    "plt.xlabel('Age').set_color('black')\n",
    "\n",
    "# Plot the y label\n",
    "plt.ylabel('Frequency of Diabetics').set_color('black')\n",
    "\n",
    "# Save the figure so you can reference it later\n",
    "plt.savefig('diabetics_age')\n",
    "\n",
    "# Change the colour of the axis line\n",
    "plt.tick_params(axis='x', colors='black')\n",
    "plt.tick_params(axis='y', colors='black')"
   ]
  },
  {
   "cell_type": "code",
   "execution_count": 11,
   "metadata": {},
   "outputs": [
    {
     "data": {
      "image/png": "[encoded data removed]",
      "text/plain": [
       "<Figure size 432x288 with 1 Axes>"
      ]
     },
     "metadata": {
      "needs_background": "light"
     },
     "output_type": "display_data"
    }
   ],
   "source": [
    "%matplotlib inline\n",
    "\n",
    "# Gender\n",
    "pd.crosstab(data.Gender,data.y).plot(kind='bar') \n",
    "plt.title('Gender and Diabetes').set_color('black') \n",
    "plt.xlabel('Gender').set_color('black') \n",
    "plt.ylabel('Frequency of Diabetics').set_color('black')\n",
    "plt.savefig('diabetics_gender')\n",
    "#plt.axhline(color='white') change colour of the axis line\n",
    "plt.tick_params(axis='x', colors='black') \n",
    "plt.tick_params(axis='y', colors='black')"
   ]
  },
  {
   "cell_type": "code",
   "execution_count": 12,
   "metadata": {},
   "outputs": [
    {
     "data": {
      "image/png": "[encoded data removed]",
      "text/plain": [
       "<Figure size 432x288 with 1 Axes>"
      ]
     },
     "metadata": {
      "needs_background": "light"
     },
     "output_type": "display_data"
    }
   ],
   "source": [
    "# Polyuria\n",
    "pd.crosstab(data.Polyuria,data.y).plot(kind='bar') \n",
    "plt.title('Polyuria and Diabetes').set_color('black') \n",
    "plt.xlabel('Polyuria').set_color('black') \n",
    "plt.ylabel('Frequency of Diabetics').set_color('black')\n",
    "plt.savefig('diabetics_Polyuria')\n",
    "#plt.axhline(color='white') change colour of the axis line\n",
    "plt.tick_params(axis='x', colors='black') \n",
    "plt.tick_params(axis='y', colors='black')"
   ]
  },
  {
   "cell_type": "code",
   "execution_count": 13,
   "metadata": {},
   "outputs": [
    {
     "data": {
      "image/png": "[encoded data removed]",
      "text/plain": [
       "<Figure size 432x288 with 1 Axes>"
      ]
     },
     "metadata": {
      "needs_background": "light"
     },
     "output_type": "display_data"
    }
   ],
   "source": [
    "# Polydipsia\n",
    "pd.crosstab(data.Polydipsia,data.y).plot(kind='bar') \n",
    "plt.title('Polydipsia and Diabetes').set_color('black') \n",
    "plt.xlabel('Polydipsia').set_color('black') \n",
    "plt.ylabel('Frequency of Diabetics').set_color('black')\n",
    "plt.savefig('diabetics_Polydipsia')\n",
    "#plt.axhline(color='white') change colour of the axis line\n",
    "plt.tick_params(axis='x', colors='black') \n",
    "plt.tick_params(axis='y', colors='black')"
   ]
  },
  {
   "cell_type": "code",
   "execution_count": 14,
   "metadata": {},
   "outputs": [
    {
     "data": {
      "image/png": "[encoded data removed]",
      "text/plain": [
       "<Figure size 432x288 with 1 Axes>"
      ]
     },
     "metadata": {
      "needs_background": "light"
     },
     "output_type": "display_data"
    }
   ],
   "source": [
    "# WeightLoss\n",
    "pd.crosstab(data.WeightLoss,data.y).plot(kind='bar') \n",
    "plt.title('WeightLoss and Diabetes').set_color('black') \n",
    "plt.xlabel('WeightLoss').set_color('black') \n",
    "plt.ylabel('Frequency of Diabetics').set_color('black')\n",
    "plt.savefig('diabetics_WeightLoss')\n",
    "#plt.axhline(color='white') change colour of the axis line\n",
    "plt.tick_params(axis='x', colors='black') \n",
    "plt.tick_params(axis='y', colors='black')"
   ]
  },
  {
   "cell_type": "code",
   "execution_count": 15,
   "metadata": {},
   "outputs": [
    {
     "data": {
      "image/png": "[encoded data removed]",
      "text/plain": [
       "<Figure size 432x288 with 1 Axes>"
      ]
     },
     "metadata": {
      "needs_background": "light"
     },
     "output_type": "display_data"
    }
   ],
   "source": [
    "# Weakness\n",
    "pd.crosstab(data.weakness,data.y).plot(kind='bar') \n",
    "plt.title('Weakness and Diabetes').set_color('black') \n",
    "plt.xlabel('Weakness').set_color('black') \n",
    "plt.ylabel('Frequency of Diabetics').set_color('black')\n",
    "plt.savefig('diabetics_weakness')\n",
    "#plt.axhline(color='white') change colour of the axis line\n",
    "plt.tick_params(axis='x', colors='black') \n",
    "plt.tick_params(axis='y', colors='black')"
   ]
  },
  {
   "cell_type": "code",
   "execution_count": 16,
   "metadata": {},
   "outputs": [
    {
     "data": {
      "image/png": "[encoded data removed]",
      "text/plain": [
       "<Figure size 432x288 with 1 Axes>"
      ]
     },
     "metadata": {
      "needs_background": "light"
     },
     "output_type": "display_data"
    }
   ],
   "source": [
    "# Polyphagia\n",
    "pd.crosstab(data.Polyphagia,data.y).plot(kind='bar') \n",
    "plt.title('Polyphagia and Diabetes').set_color('black') \n",
    "plt.xlabel('Polyphagia').set_color('black') \n",
    "plt.ylabel('Frequency of Diabetics').set_color('black')\n",
    "plt.savefig('diabetics_Polyphagia')\n",
    "#plt.axhline(color='white') change colour of the axis line\n",
    "plt.tick_params(axis='x', colors='black') \n",
    "plt.tick_params(axis='y', colors='black')"
   ]
  },
  {
   "cell_type": "code",
   "execution_count": 17,
   "metadata": {},
   "outputs": [
    {
     "data": {
      "image/png": "[encoded data removed]",
      "text/plain": [
       "<Figure size 432x288 with 1 Axes>"
      ]
     },
     "metadata": {
      "needs_background": "light"
     },
     "output_type": "display_data"
    }
   ],
   "source": [
    "# Genital Thrush\n",
    "pd.crosstab(data.GenitalThrush,data.y).plot(kind='bar') \n",
    "plt.title('Genital Thrush and Diabetes').set_color('black') \n",
    "plt.xlabel('Genital Thrush').set_color('black') \n",
    "plt.ylabel('Frequency of Diabetics').set_color('black')\n",
    "plt.savefig('diabetics_GenitalThrush')\n",
    "#plt.axhline(color='white') change colour of the axis line\n",
    "plt.tick_params(axis='x', colors='black') \n",
    "plt.tick_params(axis='y', colors='black')"
   ]
  },
  {
   "cell_type": "code",
   "execution_count": 18,
   "metadata": {},
   "outputs": [
    {
     "data": {
      "image/png": "[encoded data removed]",
      "text/plain": [
       "<Figure size 432x288 with 1 Axes>"
      ]
     },
     "metadata": {
      "needs_background": "light"
     },
     "output_type": "display_data"
    }
   ],
   "source": [
    "# VisualBlurring\n",
    "pd.crosstab(data.VisualBlurring,data.y).plot(kind='bar') \n",
    "plt.title('Visual Blurring and Diabetes').set_color('black') \n",
    "plt.xlabel('Visual Blurring').set_color('black') \n",
    "plt.ylabel('Frequency of Diabetics').set_color('black')\n",
    "plt.savefig('diabetics_VisualBlurring')\n",
    "#plt.axhline(color='white') change colour of the axis line\n",
    "plt.tick_params(axis='x', colors='black') \n",
    "plt.tick_params(axis='y', colors='black')"
   ]
  },
  {
   "cell_type": "code",
   "execution_count": 19,
   "metadata": {},
   "outputs": [
    {
     "data": {
      "image/png": "[encoded data removed]",
      "text/plain": [
       "<Figure size 432x288 with 1 Axes>"
      ]
     },
     "metadata": {
      "needs_background": "light"
     },
     "output_type": "display_data"
    }
   ],
   "source": [
    "# Itching\n",
    "pd.crosstab(data.Itching,data.y).plot(kind='bar') \n",
    "plt.title('Itching and Diabetes').set_color('black') \n",
    "plt.xlabel('Itching').set_color('black') \n",
    "plt.ylabel('Frequency of Diabetics').set_color('black')\n",
    "plt.savefig('diabetics_Itching')\n",
    "#plt.axhline(color='white') change colour of the axis line\n",
    "plt.tick_params(axis='x', colors='black') \n",
    "plt.tick_params(axis='y', colors='black')"
   ]
  },
  {
   "cell_type": "code",
   "execution_count": 20,
   "metadata": {},
   "outputs": [
    {
     "data": {
      "image/png": "[encoded data removed]",
      "text/plain": [
       "<Figure size 432x288 with 1 Axes>"
      ]
     },
     "metadata": {
      "needs_background": "light"
     },
     "output_type": "display_data"
    }
   ],
   "source": [
    "# Irritability\n",
    "pd.crosstab(data.Irritability,data.y).plot(kind='bar') \n",
    "plt.title('Irritability and Diabetes').set_color('black') \n",
    "plt.xlabel('Irritability').set_color('black') \n",
    "plt.ylabel('Frequency of Diabetics').set_color('black')\n",
    "plt.savefig('diabetics_Irritability')\n",
    "#plt.axhline(color='white') change colour of the axis line\n",
    "plt.tick_params(axis='x', colors='black') \n",
    "plt.tick_params(axis='y', colors='black')"
   ]
  },
  {
   "cell_type": "code",
   "execution_count": 21,
   "metadata": {},
   "outputs": [
    {
     "data": {
      "image/png": "[encoded data removed]",
      "text/plain": [
       "<Figure size 432x288 with 1 Axes>"
      ]
     },
     "metadata": {
      "needs_background": "light"
     },
     "output_type": "display_data"
    }
   ],
   "source": [
    "# Delayed Healing\n",
    "pd.crosstab(data.DelayedHealing,data.y).plot(kind='bar') \n",
    "plt.title('Delayed Healing and Diabetes').set_color('black') \n",
    "plt.xlabel('Delayed Healing').set_color('black') \n",
    "plt.ylabel('Frequency of Diabetics').set_color('black')\n",
    "plt.savefig('diabetics_DelayedHealing')\n",
    "#plt.axhline(color='white') change colour of the axis line\n",
    "plt.tick_params(axis='x', colors='black') \n",
    "plt.tick_params(axis='y', colors='black')"
   ]
  },
  {
   "cell_type": "code",
   "execution_count": 22,
   "metadata": {},
   "outputs": [
    {
     "data": {
      "image/png": "[encoded data removed]",
      "text/plain": [
       "<Figure size 432x288 with 1 Axes>"
      ]
     },
     "metadata": {
      "needs_background": "light"
     },
     "output_type": "display_data"
    }
   ],
   "source": [
    "# PartialParesis\n",
    "pd.crosstab(data.PartialParesis,data.y).plot(kind='bar') \n",
    "plt.title('PartialParesis and Diabetes').set_color('black') \n",
    "plt.xlabel('Partial Paresis').set_color('black') \n",
    "plt.ylabel('Frequency of Diabetics').set_color('black')\n",
    "plt.savefig('diabetics_PartialParesis')\n",
    "#plt.axhline(color='white') change colour of the axis line\n",
    "plt.tick_params(axis='x', colors='black') \n",
    "plt.tick_params(axis='y', colors='black')"
   ]
  },
  {
   "cell_type": "code",
   "execution_count": 23,
   "metadata": {},
   "outputs": [
    {
     "data": {
      "image/png": "[encoded data removed]",
      "text/plain": [
       "<Figure size 432x288 with 1 Axes>"
      ]
     },
     "metadata": {
      "needs_background": "light"
     },
     "output_type": "display_data"
    }
   ],
   "source": [
    "# MuscleStiffness\n",
    "pd.crosstab(data.MuscleStiffness,data.y).plot(kind='bar') \n",
    "plt.title('MuscleStiffness and Diabetes').set_color('black') \n",
    "plt.xlabel('Muscle Stiffness').set_color('black') \n",
    "plt.ylabel('Frequency of Diabetics').set_color('black')\n",
    "plt.savefig('diabetics_MuscleStiffness')\n",
    "#plt.axhline(color='white') change colour of the axis line\n",
    "plt.tick_params(axis='x', colors='black') \n",
    "plt.tick_params(axis='y', colors='black')"
   ]
  },
  {
   "cell_type": "code",
   "execution_count": 24,
   "metadata": {},
   "outputs": [
    {
     "data": {
      "image/png": "[encoded data removed]",
      "text/plain": [
       "<Figure size 432x288 with 1 Axes>"
      ]
     },
     "metadata": {
      "needs_background": "light"
     },
     "output_type": "display_data"
    }
   ],
   "source": [
    "# Alopecia\n",
    "pd.crosstab(data.Alopecia,data.y).plot(kind='bar') \n",
    "plt.title('Alopecia and Diabetes').set_color('black') \n",
    "plt.xlabel('Alopecia').set_color('black') \n",
    "plt.ylabel('Frequency of Diabetics').set_color('black')\n",
    "plt.savefig('diabetics_Alopecia')\n",
    "#plt.axhline(color='white') change colour of the axis line\n",
    "plt.tick_params(axis='x', colors='black') \n",
    "plt.tick_params(axis='y', colors='black')"
   ]
  },
  {
   "cell_type": "code",
   "execution_count": 25,
   "metadata": {},
   "outputs": [
    {
     "data": {
      "image/png": "[encoded data removed]",
      "text/plain": [
       "<Figure size 432x288 with 1 Axes>"
      ]
     },
     "metadata": {
      "needs_background": "light"
     },
     "output_type": "display_data"
    }
   ],
   "source": [
    "# Obesity\n",
    "pd.crosstab(data.Obesity,data.y).plot(kind='bar') \n",
    "plt.title('Obesity and Diabetes').set_color('black') \n",
    "plt.xlabel('Obesity').set_color('black') \n",
    "plt.ylabel('Frequency of Diabetics').set_color('black')\n",
    "plt.savefig('diabetics_Obesity')\n",
    "#plt.axhline(color='white') change colour of the axis line\n",
    "plt.tick_params(axis='x', colors='black') \n",
    "plt.tick_params(axis='y', colors='black')"
   ]
  },
  {
   "cell_type": "markdown",
   "metadata": {},
   "source": [
    "### Insight\n",
    "\n",
    "Alot of the symptoms, on their own, are not good indicators of whether someone has diabetes or not. Take 'Age' for example. Age is not a good indicator, too many categories, maybe join to age groups?\n",
    "Polyuria seems to be a good indicator. The left two bar charts show that, for none-diabetics about double showed no indication of having Polyuria whilst diabetics a great number of them had Polyuria.\n",
    "Likewise, Polydipsia shows a similar divide thus both are good indicators of diabetes.\n"
   ]
  },
  {
   "cell_type": "code",
   "execution_count": 26,
   "metadata": {},
   "outputs": [
    {
     "data": {
      "image/png": "[encoded data removed]",
      "text/plain": [
       "<Figure size 432x288 with 1 Axes>"
      ]
     },
     "metadata": {
      "needs_background": "light"
     },
     "output_type": "display_data"
    },
    {
     "data": {
      "image/png": "[encoded data removed]",
      "text/plain": [
       "<Figure size 432x288 with 1 Axes>"
      ]
     },
     "metadata": {
      "needs_background": "light"
     },
     "output_type": "display_data"
    }
   ],
   "source": [
    "# Polyuria\n",
    "pd.crosstab(data.Polyuria,data.y).plot(kind='bar') \n",
    "plt.title('Polyuria and Diabetes').set_color('black') \n",
    "plt.xlabel('Polyuria').set_color('black') \n",
    "plt.ylabel('Frequency of Diabetics').set_color('black')\n",
    "plt.savefig('diabetics_Polyuria')\n",
    "#plt.axhline(color='white') change colour of the axis line\n",
    "plt.tick_params(axis='x', colors='black') \n",
    "plt.tick_params(axis='y', colors='black')\n",
    "\n",
    "# Polydipsia\n",
    "pd.crosstab(data.Polydipsia,data.y).plot(kind='bar') \n",
    "plt.title('Polydipsia and Diabetes').set_color('black') \n",
    "plt.xlabel('Polydipsia').set_color('black') \n",
    "plt.ylabel('Frequency of Diabetics').set_color('black')\n",
    "plt.savefig('diabetics_Polydipsia')\n",
    "#plt.axhline(color='white') change colour of the axis line\n",
    "plt.tick_params(axis='x', colors='black') \n",
    "plt.tick_params(axis='y', colors='black')"
   ]
  },
  {
   "cell_type": "markdown",
   "metadata": {},
   "source": [
    "The initial visualization I chose for age wasn't great, so i'm going to produce a clearer visualation using a histogram to see what insight I can gain from it."
   ]
  },
  {
   "cell_type": "code",
   "execution_count": 27,
   "metadata": {},
   "outputs": [
    {
     "data": {
      "image/png": "[encoded data removed]",
      "text/plain": [
       "<Figure size 432x288 with 1 Axes>"
      ]
     },
     "metadata": {
      "needs_background": "light"
     },
     "output_type": "display_data"
    }
   ],
   "source": [
    "data.Age.hist()\n",
    "plt.title('Histogram of Age')\n",
    "plt.xlabel('Age')\n",
    "plt.ylabel('Frequency')\n",
    "plt.savefig('hist_age')"
   ]
  },
  {
   "cell_type": "markdown",
   "metadata": {},
   "source": [
    "### Insight\n",
    "\n",
    "I can see most diabetics are in the age range 40 - 60"
   ]
  },
  {
   "cell_type": "markdown",
   "metadata": {},
   "source": [
    "### Create dummy variables to fix Data Imbalance\n",
    "\n",
    "Because we have now identified Polyuria and Polydipsia as clear indicators of diabetes, we can trust these features are good enough to use for creating dummy variables to fix the Data imbalance. We needed to check so our data isn't biases or because invalid, by making a full assumption to add more information to the data."
   ]
  },
  {
   "cell_type": "code",
   "execution_count": 28,
   "metadata": {},
   "outputs": [
    {
     "data": {
      "text/plain": [
       "array(['Age', 'Gender', 'WeightLoss', 'weakness', 'Polyphagia',\n",
       "       'GenitalThrush', 'VisualBlurring', 'Itching', 'Irritability',\n",
       "       'DelayedHealing', 'PartialParesis', 'MuscleStiffness', 'Alopecia',\n",
       "       'Obesity', 'y', 'Polyuria_0', 'Polyuria_1', 'Polydipsia_0',\n",
       "       'Polydipsia_1'], dtype=object)"
      ]
     },
     "execution_count": 28,
     "metadata": {},
     "output_type": "execute_result"
    }
   ],
   "source": [
    "category_vars = ['Polyuria','Polydipsia']\n",
    "\n",
    "for var in category_vars:\n",
    "    category_list='var'+'_'+var\n",
    "    category_list = pd.get_dummies(data[var], prefix=var)\n",
    "    new_data=data.join(category_list)\n",
    "    data=new_data\n",
    "\n",
    "data_vars=data.columns.values.tolist()\n",
    "\n",
    "# We don't want to alter the other categories\n",
    "to_keep=[i for i in data_vars if i not in category_vars]\n",
    "\n",
    "data_final=data[to_keep]\n",
    "\n",
    "# You will see new columns have been added to our dataset, repeats of Polyuria and Polydipsia data\n",
    "data_final.columns.values"
   ]
  },
  {
   "cell_type": "code",
   "execution_count": 29,
   "metadata": {},
   "outputs": [
    {
     "data": {
      "text/html": [
       "<div>\n",
       "<style scoped>\n",
       "    .dataframe tbody tr th:only-of-type {\n",
       "        vertical-align: middle;\n",
       "    }\n",
       "\n",
       "    .dataframe tbody tr th {\n",
       "        vertical-align: top;\n",
       "    }\n",
       "\n",
       "    .dataframe thead th {\n",
       "        text-align: right;\n",
       "    }\n",
       "</style>\n",
       "<table border=\"1\" class=\"dataframe\">\n",
       "  <thead>\n",
       "    <tr style=\"text-align: right;\">\n",
       "      <th></th>\n",
       "      <th>Age</th>\n",
       "      <th>Gender</th>\n",
       "      <th>Polyuria</th>\n",
       "      <th>Polydipsia</th>\n",
       "      <th>WeightLoss</th>\n",
       "      <th>weakness</th>\n",
       "      <th>Polyphagia</th>\n",
       "      <th>GenitalThrush</th>\n",
       "      <th>VisualBlurring</th>\n",
       "      <th>Itching</th>\n",
       "      <th>...</th>\n",
       "      <th>DelayedHealing</th>\n",
       "      <th>PartialParesis</th>\n",
       "      <th>MuscleStiffness</th>\n",
       "      <th>Alopecia</th>\n",
       "      <th>Obesity</th>\n",
       "      <th>y</th>\n",
       "      <th>Polyuria_0</th>\n",
       "      <th>Polyuria_1</th>\n",
       "      <th>Polydipsia_0</th>\n",
       "      <th>Polydipsia_1</th>\n",
       "    </tr>\n",
       "  </thead>\n",
       "  <tbody>\n",
       "    <tr>\n",
       "      <th>0</th>\n",
       "      <td>40</td>\n",
       "      <td>Male</td>\n",
       "      <td>0</td>\n",
       "      <td>1</td>\n",
       "      <td>0</td>\n",
       "      <td>1</td>\n",
       "      <td>0</td>\n",
       "      <td>0</td>\n",
       "      <td>0</td>\n",
       "      <td>1</td>\n",
       "      <td>...</td>\n",
       "      <td>1</td>\n",
       "      <td>0</td>\n",
       "      <td>1</td>\n",
       "      <td>1</td>\n",
       "      <td>1</td>\n",
       "      <td>1</td>\n",
       "      <td>1</td>\n",
       "      <td>0</td>\n",
       "      <td>0</td>\n",
       "      <td>1</td>\n",
       "    </tr>\n",
       "    <tr>\n",
       "      <th>1</th>\n",
       "      <td>58</td>\n",
       "      <td>Male</td>\n",
       "      <td>0</td>\n",
       "      <td>0</td>\n",
       "      <td>0</td>\n",
       "      <td>1</td>\n",
       "      <td>0</td>\n",
       "      <td>0</td>\n",
       "      <td>1</td>\n",
       "      <td>0</td>\n",
       "      <td>...</td>\n",
       "      <td>0</td>\n",
       "      <td>1</td>\n",
       "      <td>0</td>\n",
       "      <td>1</td>\n",
       "      <td>0</td>\n",
       "      <td>1</td>\n",
       "      <td>1</td>\n",
       "      <td>0</td>\n",
       "      <td>1</td>\n",
       "      <td>0</td>\n",
       "    </tr>\n",
       "    <tr>\n",
       "      <th>2</th>\n",
       "      <td>41</td>\n",
       "      <td>Male</td>\n",
       "      <td>1</td>\n",
       "      <td>0</td>\n",
       "      <td>0</td>\n",
       "      <td>1</td>\n",
       "      <td>1</td>\n",
       "      <td>0</td>\n",
       "      <td>0</td>\n",
       "      <td>1</td>\n",
       "      <td>...</td>\n",
       "      <td>1</td>\n",
       "      <td>0</td>\n",
       "      <td>1</td>\n",
       "      <td>1</td>\n",
       "      <td>0</td>\n",
       "      <td>1</td>\n",
       "      <td>0</td>\n",
       "      <td>1</td>\n",
       "      <td>1</td>\n",
       "      <td>0</td>\n",
       "    </tr>\n",
       "    <tr>\n",
       "      <th>3</th>\n",
       "      <td>45</td>\n",
       "      <td>Male</td>\n",
       "      <td>0</td>\n",
       "      <td>0</td>\n",
       "      <td>1</td>\n",
       "      <td>1</td>\n",
       "      <td>1</td>\n",
       "      <td>1</td>\n",
       "      <td>0</td>\n",
       "      <td>1</td>\n",
       "      <td>...</td>\n",
       "      <td>1</td>\n",
       "      <td>0</td>\n",
       "      <td>0</td>\n",
       "      <td>0</td>\n",
       "      <td>0</td>\n",
       "      <td>1</td>\n",
       "      <td>1</td>\n",
       "      <td>0</td>\n",
       "      <td>1</td>\n",
       "      <td>0</td>\n",
       "    </tr>\n",
       "    <tr>\n",
       "      <th>4</th>\n",
       "      <td>60</td>\n",
       "      <td>Male</td>\n",
       "      <td>1</td>\n",
       "      <td>1</td>\n",
       "      <td>1</td>\n",
       "      <td>1</td>\n",
       "      <td>1</td>\n",
       "      <td>0</td>\n",
       "      <td>1</td>\n",
       "      <td>1</td>\n",
       "      <td>...</td>\n",
       "      <td>1</td>\n",
       "      <td>1</td>\n",
       "      <td>1</td>\n",
       "      <td>1</td>\n",
       "      <td>1</td>\n",
       "      <td>1</td>\n",
       "      <td>0</td>\n",
       "      <td>1</td>\n",
       "      <td>0</td>\n",
       "      <td>1</td>\n",
       "    </tr>\n",
       "  </tbody>\n",
       "</table>\n",
       "<p>5 rows × 21 columns</p>\n",
       "</div>"
      ],
      "text/plain": [
       "   Age Gender  Polyuria  Polydipsia  WeightLoss  weakness  Polyphagia  \\\n",
       "0   40   Male         0           1           0         1           0   \n",
       "1   58   Male         0           0           0         1           0   \n",
       "2   41   Male         1           0           0         1           1   \n",
       "3   45   Male         0           0           1         1           1   \n",
       "4   60   Male         1           1           1         1           1   \n",
       "\n",
       "   GenitalThrush  VisualBlurring  Itching  ...  DelayedHealing  \\\n",
       "0              0               0        1  ...               1   \n",
       "1              0               1        0  ...               0   \n",
       "2              0               0        1  ...               1   \n",
       "3              1               0        1  ...               1   \n",
       "4              0               1        1  ...               1   \n",
       "\n",
       "   PartialParesis  MuscleStiffness  Alopecia  Obesity  y  Polyuria_0  \\\n",
       "0               0                1         1        1  1           1   \n",
       "1               1                0         1        0  1           1   \n",
       "2               0                1         1        0  1           0   \n",
       "3               0                0         0        0  1           1   \n",
       "4               1                1         1        1  1           0   \n",
       "\n",
       "   Polyuria_1  Polydipsia_0  Polydipsia_1  \n",
       "0           0             0             1  \n",
       "1           0             1             0  \n",
       "2           1             1             0  \n",
       "3           0             1             0  \n",
       "4           1             0             1  \n",
       "\n",
       "[5 rows x 21 columns]"
      ]
     },
     "execution_count": 29,
     "metadata": {},
     "output_type": "execute_result"
    }
   ],
   "source": [
    "# Output data just to see what it looks like with the added dummy variables\n",
    "data.head()"
   ]
  },
  {
   "cell_type": "code",
   "execution_count": 30,
   "metadata": {},
   "outputs": [
    {
     "data": {
      "text/html": [
       "<div>\n",
       "<style scoped>\n",
       "    .dataframe tbody tr th:only-of-type {\n",
       "        vertical-align: middle;\n",
       "    }\n",
       "\n",
       "    .dataframe tbody tr th {\n",
       "        vertical-align: top;\n",
       "    }\n",
       "\n",
       "    .dataframe thead th {\n",
       "        text-align: right;\n",
       "    }\n",
       "</style>\n",
       "<table border=\"1\" class=\"dataframe\">\n",
       "  <thead>\n",
       "    <tr style=\"text-align: right;\">\n",
       "      <th></th>\n",
       "      <th>Age</th>\n",
       "      <th>Gender</th>\n",
       "      <th>Polyuria</th>\n",
       "      <th>Polydipsia</th>\n",
       "      <th>WeightLoss</th>\n",
       "      <th>weakness</th>\n",
       "      <th>Polyphagia</th>\n",
       "      <th>GenitalThrush</th>\n",
       "      <th>VisualBlurring</th>\n",
       "      <th>Itching</th>\n",
       "      <th>...</th>\n",
       "      <th>DelayedHealing</th>\n",
       "      <th>PartialParesis</th>\n",
       "      <th>MuscleStiffness</th>\n",
       "      <th>Alopecia</th>\n",
       "      <th>Obesity</th>\n",
       "      <th>y</th>\n",
       "      <th>Polyuria_0</th>\n",
       "      <th>Polyuria_1</th>\n",
       "      <th>Polydipsia_0</th>\n",
       "      <th>Polydipsia_1</th>\n",
       "    </tr>\n",
       "  </thead>\n",
       "  <tbody>\n",
       "    <tr>\n",
       "      <th>515</th>\n",
       "      <td>39</td>\n",
       "      <td>Female</td>\n",
       "      <td>1</td>\n",
       "      <td>1</td>\n",
       "      <td>1</td>\n",
       "      <td>0</td>\n",
       "      <td>1</td>\n",
       "      <td>0</td>\n",
       "      <td>0</td>\n",
       "      <td>1</td>\n",
       "      <td>...</td>\n",
       "      <td>1</td>\n",
       "      <td>1</td>\n",
       "      <td>0</td>\n",
       "      <td>0</td>\n",
       "      <td>0</td>\n",
       "      <td>1</td>\n",
       "      <td>0</td>\n",
       "      <td>1</td>\n",
       "      <td>0</td>\n",
       "      <td>1</td>\n",
       "    </tr>\n",
       "    <tr>\n",
       "      <th>516</th>\n",
       "      <td>48</td>\n",
       "      <td>Female</td>\n",
       "      <td>1</td>\n",
       "      <td>1</td>\n",
       "      <td>1</td>\n",
       "      <td>1</td>\n",
       "      <td>1</td>\n",
       "      <td>0</td>\n",
       "      <td>0</td>\n",
       "      <td>1</td>\n",
       "      <td>...</td>\n",
       "      <td>1</td>\n",
       "      <td>1</td>\n",
       "      <td>0</td>\n",
       "      <td>0</td>\n",
       "      <td>0</td>\n",
       "      <td>1</td>\n",
       "      <td>0</td>\n",
       "      <td>1</td>\n",
       "      <td>0</td>\n",
       "      <td>1</td>\n",
       "    </tr>\n",
       "    <tr>\n",
       "      <th>517</th>\n",
       "      <td>58</td>\n",
       "      <td>Female</td>\n",
       "      <td>1</td>\n",
       "      <td>1</td>\n",
       "      <td>1</td>\n",
       "      <td>1</td>\n",
       "      <td>1</td>\n",
       "      <td>0</td>\n",
       "      <td>1</td>\n",
       "      <td>0</td>\n",
       "      <td>...</td>\n",
       "      <td>0</td>\n",
       "      <td>1</td>\n",
       "      <td>1</td>\n",
       "      <td>0</td>\n",
       "      <td>1</td>\n",
       "      <td>1</td>\n",
       "      <td>0</td>\n",
       "      <td>1</td>\n",
       "      <td>0</td>\n",
       "      <td>1</td>\n",
       "    </tr>\n",
       "    <tr>\n",
       "      <th>518</th>\n",
       "      <td>32</td>\n",
       "      <td>Female</td>\n",
       "      <td>0</td>\n",
       "      <td>0</td>\n",
       "      <td>0</td>\n",
       "      <td>1</td>\n",
       "      <td>0</td>\n",
       "      <td>0</td>\n",
       "      <td>1</td>\n",
       "      <td>1</td>\n",
       "      <td>...</td>\n",
       "      <td>1</td>\n",
       "      <td>0</td>\n",
       "      <td>0</td>\n",
       "      <td>1</td>\n",
       "      <td>0</td>\n",
       "      <td>0</td>\n",
       "      <td>1</td>\n",
       "      <td>0</td>\n",
       "      <td>1</td>\n",
       "      <td>0</td>\n",
       "    </tr>\n",
       "    <tr>\n",
       "      <th>519</th>\n",
       "      <td>42</td>\n",
       "      <td>Male</td>\n",
       "      <td>0</td>\n",
       "      <td>0</td>\n",
       "      <td>0</td>\n",
       "      <td>0</td>\n",
       "      <td>0</td>\n",
       "      <td>0</td>\n",
       "      <td>0</td>\n",
       "      <td>0</td>\n",
       "      <td>...</td>\n",
       "      <td>0</td>\n",
       "      <td>0</td>\n",
       "      <td>0</td>\n",
       "      <td>0</td>\n",
       "      <td>0</td>\n",
       "      <td>0</td>\n",
       "      <td>1</td>\n",
       "      <td>0</td>\n",
       "      <td>1</td>\n",
       "      <td>0</td>\n",
       "    </tr>\n",
       "  </tbody>\n",
       "</table>\n",
       "<p>5 rows × 21 columns</p>\n",
       "</div>"
      ],
      "text/plain": [
       "     Age  Gender  Polyuria  Polydipsia  WeightLoss  weakness  Polyphagia  \\\n",
       "515   39  Female         1           1           1         0           1   \n",
       "516   48  Female         1           1           1         1           1   \n",
       "517   58  Female         1           1           1         1           1   \n",
       "518   32  Female         0           0           0         1           0   \n",
       "519   42    Male         0           0           0         0           0   \n",
       "\n",
       "     GenitalThrush  VisualBlurring  Itching  ...  DelayedHealing  \\\n",
       "515              0               0        1  ...               1   \n",
       "516              0               0        1  ...               1   \n",
       "517              0               1        0  ...               0   \n",
       "518              0               1        1  ...               1   \n",
       "519              0               0        0  ...               0   \n",
       "\n",
       "     PartialParesis  MuscleStiffness  Alopecia  Obesity  y  Polyuria_0  \\\n",
       "515               1                0         0        0  1           0   \n",
       "516               1                0         0        0  1           0   \n",
       "517               1                1         0        1  1           0   \n",
       "518               0                0         1        0  0           1   \n",
       "519               0                0         0        0  0           1   \n",
       "\n",
       "     Polyuria_1  Polydipsia_0  Polydipsia_1  \n",
       "515           1             0             1  \n",
       "516           1             0             1  \n",
       "517           1             0             1  \n",
       "518           0             1             0  \n",
       "519           0             1             0  \n",
       "\n",
       "[5 rows x 21 columns]"
      ]
     },
     "execution_count": 30,
     "metadata": {},
     "output_type": "execute_result"
    }
   ],
   "source": [
    "data.tail()"
   ]
  },
  {
   "cell_type": "markdown",
   "metadata": {},
   "source": [
    "### Insight\n",
    "\n",
    "There is still a problem with our data. We need all values to be numerical so we can apply our logistic regression algorithm to it. So we need to change Female and Male to be binary.\n",
    "- Femal -> 1 and Male -> 0"
   ]
  },
  {
   "cell_type": "code",
   "execution_count": 31,
   "metadata": {},
   "outputs": [
    {
     "name": "stderr",
     "output_type": "stream",
     "text": [
      "/home/muna/anaconda3/envs/env_pytorch/lib/python3.6/site-packages/pandas/core/frame.py:4389: SettingWithCopyWarning: \n",
      "A value is trying to be set on a copy of a slice from a DataFrame\n",
      "\n",
      "See the caveats in the documentation: https://pandas.pydata.org/pandas-docs/stable/user_guide/indexing.html#returning-a-view-versus-a-copy\n",
      "  method=method,\n"
     ]
    },
    {
     "data": {
      "text/html": [
       "<div>\n",
       "<style scoped>\n",
       "    .dataframe tbody tr th:only-of-type {\n",
       "        vertical-align: middle;\n",
       "    }\n",
       "\n",
       "    .dataframe tbody tr th {\n",
       "        vertical-align: top;\n",
       "    }\n",
       "\n",
       "    .dataframe thead th {\n",
       "        text-align: right;\n",
       "    }\n",
       "</style>\n",
       "<table border=\"1\" class=\"dataframe\">\n",
       "  <thead>\n",
       "    <tr style=\"text-align: right;\">\n",
       "      <th></th>\n",
       "      <th>Age</th>\n",
       "      <th>Gender</th>\n",
       "      <th>WeightLoss</th>\n",
       "      <th>weakness</th>\n",
       "      <th>Polyphagia</th>\n",
       "      <th>GenitalThrush</th>\n",
       "      <th>VisualBlurring</th>\n",
       "      <th>Itching</th>\n",
       "      <th>Irritability</th>\n",
       "      <th>DelayedHealing</th>\n",
       "      <th>PartialParesis</th>\n",
       "      <th>MuscleStiffness</th>\n",
       "      <th>Alopecia</th>\n",
       "      <th>Obesity</th>\n",
       "      <th>y</th>\n",
       "      <th>Polyuria_0</th>\n",
       "      <th>Polyuria_1</th>\n",
       "      <th>Polydipsia_0</th>\n",
       "      <th>Polydipsia_1</th>\n",
       "    </tr>\n",
       "  </thead>\n",
       "  <tbody>\n",
       "    <tr>\n",
       "      <th>515</th>\n",
       "      <td>39</td>\n",
       "      <td>1</td>\n",
       "      <td>1</td>\n",
       "      <td>0</td>\n",
       "      <td>1</td>\n",
       "      <td>0</td>\n",
       "      <td>0</td>\n",
       "      <td>1</td>\n",
       "      <td>0</td>\n",
       "      <td>1</td>\n",
       "      <td>1</td>\n",
       "      <td>0</td>\n",
       "      <td>0</td>\n",
       "      <td>0</td>\n",
       "      <td>1</td>\n",
       "      <td>0</td>\n",
       "      <td>1</td>\n",
       "      <td>0</td>\n",
       "      <td>1</td>\n",
       "    </tr>\n",
       "    <tr>\n",
       "      <th>516</th>\n",
       "      <td>48</td>\n",
       "      <td>1</td>\n",
       "      <td>1</td>\n",
       "      <td>1</td>\n",
       "      <td>1</td>\n",
       "      <td>0</td>\n",
       "      <td>0</td>\n",
       "      <td>1</td>\n",
       "      <td>1</td>\n",
       "      <td>1</td>\n",
       "      <td>1</td>\n",
       "      <td>0</td>\n",
       "      <td>0</td>\n",
       "      <td>0</td>\n",
       "      <td>1</td>\n",
       "      <td>0</td>\n",
       "      <td>1</td>\n",
       "      <td>0</td>\n",
       "      <td>1</td>\n",
       "    </tr>\n",
       "    <tr>\n",
       "      <th>517</th>\n",
       "      <td>58</td>\n",
       "      <td>1</td>\n",
       "      <td>1</td>\n",
       "      <td>1</td>\n",
       "      <td>1</td>\n",
       "      <td>0</td>\n",
       "      <td>1</td>\n",
       "      <td>0</td>\n",
       "      <td>0</td>\n",
       "      <td>0</td>\n",
       "      <td>1</td>\n",
       "      <td>1</td>\n",
       "      <td>0</td>\n",
       "      <td>1</td>\n",
       "      <td>1</td>\n",
       "      <td>0</td>\n",
       "      <td>1</td>\n",
       "      <td>0</td>\n",
       "      <td>1</td>\n",
       "    </tr>\n",
       "    <tr>\n",
       "      <th>518</th>\n",
       "      <td>32</td>\n",
       "      <td>1</td>\n",
       "      <td>0</td>\n",
       "      <td>1</td>\n",
       "      <td>0</td>\n",
       "      <td>0</td>\n",
       "      <td>1</td>\n",
       "      <td>1</td>\n",
       "      <td>0</td>\n",
       "      <td>1</td>\n",
       "      <td>0</td>\n",
       "      <td>0</td>\n",
       "      <td>1</td>\n",
       "      <td>0</td>\n",
       "      <td>0</td>\n",
       "      <td>1</td>\n",
       "      <td>0</td>\n",
       "      <td>1</td>\n",
       "      <td>0</td>\n",
       "    </tr>\n",
       "    <tr>\n",
       "      <th>519</th>\n",
       "      <td>42</td>\n",
       "      <td>0</td>\n",
       "      <td>0</td>\n",
       "      <td>0</td>\n",
       "      <td>0</td>\n",
       "      <td>0</td>\n",
       "      <td>0</td>\n",
       "      <td>0</td>\n",
       "      <td>0</td>\n",
       "      <td>0</td>\n",
       "      <td>0</td>\n",
       "      <td>0</td>\n",
       "      <td>0</td>\n",
       "      <td>0</td>\n",
       "      <td>0</td>\n",
       "      <td>1</td>\n",
       "      <td>0</td>\n",
       "      <td>1</td>\n",
       "      <td>0</td>\n",
       "    </tr>\n",
       "  </tbody>\n",
       "</table>\n",
       "</div>"
      ],
      "text/plain": [
       "     Age  Gender  WeightLoss  weakness  Polyphagia  GenitalThrush  \\\n",
       "515   39       1           1         0           1              0   \n",
       "516   48       1           1         1           1              0   \n",
       "517   58       1           1         1           1              0   \n",
       "518   32       1           0         1           0              0   \n",
       "519   42       0           0         0           0              0   \n",
       "\n",
       "     VisualBlurring  Itching  Irritability  DelayedHealing  PartialParesis  \\\n",
       "515               0        1             0               1               1   \n",
       "516               0        1             1               1               1   \n",
       "517               1        0             0               0               1   \n",
       "518               1        1             0               1               0   \n",
       "519               0        0             0               0               0   \n",
       "\n",
       "     MuscleStiffness  Alopecia  Obesity  y  Polyuria_0  Polyuria_1  \\\n",
       "515                0         0        0  1           0           1   \n",
       "516                0         0        0  1           0           1   \n",
       "517                1         0        1  1           0           1   \n",
       "518                0         1        0  0           1           0   \n",
       "519                0         0        0  0           1           0   \n",
       "\n",
       "     Polydipsia_0  Polydipsia_1  \n",
       "515             0             1  \n",
       "516             0             1  \n",
       "517             0             1  \n",
       "518             1             0  \n",
       "519             1             0  "
      ]
     },
     "execution_count": 31,
     "metadata": {},
     "output_type": "execute_result"
    }
   ],
   "source": [
    "data_final.replace('Female', 1, inplace=True)\n",
    "data_final.replace('Male', 0, inplace=True)\n",
    "\n",
    "# can compare with the table above to see the change\n",
    "data_final.tail()"
   ]
  },
  {
   "cell_type": "markdown",
   "metadata": {},
   "source": [
    "### Oversample data using SMOTE\n",
    "\n",
    "__Why must I oversample the data and what is SMOTE?__\n",
    "\n",
    "_Imbalanced classification involves developing predictive models on classification datasets that have a severe class imbalance._\n",
    "\n",
    "_The challenge of working with imbalanced datasets is that most machine learning techniques will ignore, and in turn have poor performance on, the minority class, although typically it is performance on the minority class that is most important._\n",
    "\n",
    "_One approach to addressing imbalanced datasets is to oversample the minority class. The simplest approach involves duplicating examples in the minority class, although these examples don’t add any new information to the model. Instead, new examples can be synthesized from the existing examples. This is a type of data augmentation for the minority class and is referred to as the Synthetic Minority Oversampling Technique, or SMOTE for short._\n",
    "\n",
    "__The breakdown:__\n",
    "So essentially python has a library specific for dealing with imbalanced data, and SMOTE is a method that lets you fix this! \n",
    "\n",
    "Source:\n",
    "https://machinelearningmastery.com/smote-oversampling-for-imbalanced-classification/"
   ]
  },
  {
   "cell_type": "code",
   "execution_count": 36,
   "metadata": {},
   "outputs": [
    {
     "name": "stdout",
     "output_type": "stream",
     "text": [
      "length of oversampled data is  452\n",
      "Number of none diabetics in oversampled data 226\n",
      "Number of diabetics 226\n",
      "Proportion of none diabetics data in oversampled data is  0.5\n",
      "Proportion of diabetics data in oversampled data is  0.5\n"
     ]
    }
   ],
   "source": [
    "# the rest of the columns\n",
    "X = data_final.loc[:, data_final.columns != 'y']\n",
    "\n",
    "# minority class\n",
    "y = data_final.loc[:, data_final.columns == 'y']\n",
    "\n",
    "# os for the operation in use\n",
    "os = SMOTE(random_state=0)\n",
    "X_train, X_test, y_train, y_test = train_test_split(X, y, test_size=0.3, random_state=0)\n",
    "columns = X_train.columns\n",
    "\n",
    "# This is where the data is split\n",
    "os_data_X,os_data_y=os.fit_sample(X_train, y_train)\n",
    "os_data_X = pd.DataFrame(data=os_data_X,columns=columns )\n",
    "os_data_y= pd.DataFrame(data=os_data_y,columns=['y'])\n",
    "\n",
    "# can now check the imbalance has been fixed\n",
    "print(\"length of oversampled data is \",len(os_data_X))\n",
    "print(\"Number of none diabetics in oversampled data\",len(os_data_y[os_data_y['y']==0]))\n",
    "print(\"Number of diabetics\",len(os_data_y[os_data_y['y']==1]))\n",
    "print(\"Proportion of none diabetics data in oversampled data is \",len(os_data_y[os_data_y['y']==0])/len(os_data_X))\n",
    "print(\"Proportion of diabetics data in oversampled data is \",len(os_data_y[os_data_y['y']==1])/len(os_data_X))"
   ]
  },
  {
   "cell_type": "markdown",
   "metadata": {},
   "source": [
    "### Insight\n",
    "\n",
    "Now we have a perfect balanced data! You may have noticed that I over-sampled only on the training data, because by oversampling only on the training data, none of the information in the test data is being used to create synthetic observations, therefore, no information will bleed from test data into the model training."
   ]
  },
  {
   "cell_type": "markdown",
   "metadata": {},
   "source": [
    "### Recursive Feature Elimination\n",
    "\n",
    "_RFE is popular because it is easy to configure and use and because it is effective at selecting those features (columns) in a training dataset that are more or most relevant in predicting the target variable._\n",
    "\n",
    "_There are two important configuration options when using RFE: the choice in the number of features to select and the choice of the algorithm used to help choose features. Both of these hyperparameters can be explored, although the performance of the method is not strongly dependent on these hyperparameters being configured well._\n",
    "\n",
    "__The breakdown__:\n",
    "The goal of RFE is to select features by recursively considering smaller and smaller sets of features based on the idea of repeatedly constructing a model and choosing either the best or worst performing feature, setting the feature aside and then repeating the process with the rest of the features. We need to use it alongside our regression model for classification.\n",
    "\n",
    "Source:\n",
    "https://machinelearningmastery.com/rfe-feature-selection-in-python/"
   ]
  },
  {
   "cell_type": "code",
   "execution_count": 38,
   "metadata": {},
   "outputs": [
    {
     "name": "stdout",
     "output_type": "stream",
     "text": [
      "[ True  True  True  True  True  True  True  True  True  True  True  True\n",
      "  True  True  True  True  True  True]\n",
      "[1 1 1 1 1 1 1 1 1 1 1 1 1 1 1 1 1 1]\n"
     ]
    },
    {
     "name": "stderr",
     "output_type": "stream",
     "text": [
      "/home/muna/anaconda3/envs/env_pytorch/lib/python3.6/site-packages/sklearn/utils/validation.py:72: FutureWarning: Pass n_features_to_select=20 as keyword args. From version 1.0 (renaming of 0.25) passing these as positional arguments will result in an error\n",
      "  \"will result in an error\", FutureWarning)\n"
     ]
    }
   ],
   "source": [
    "data_final_vars=data_final.columns.values.tolist()\n",
    "\n",
    "y=['y']\n",
    "X=[i for i in data_final_vars if i not in y]\n",
    "\n",
    "# using logistic regression here, set max iterations to 10000 to limit the amount it recurses\n",
    "logreg = LogisticRegression(max_iter=10000) \n",
    "rfe = RFE(logreg, 20)\n",
    "rfe = rfe.fit(os_data_X, os_data_y.values.ravel())\n",
    "\n",
    "print(rfe.support_)\n",
    "\n",
    "print(rfe.ranking_)"
   ]
  },
  {
   "cell_type": "markdown",
   "metadata": {},
   "source": [
    "### Insight\n",
    "\n",
    "RFE has helped us choose the following columns, where all the values are True or 1 are the following columns. It also removes Polyuria and Polydipsia."
   ]
  },
  {
   "cell_type": "code",
   "execution_count": 39,
   "metadata": {},
   "outputs": [
    {
     "name": "stdout",
     "output_type": "stream",
     "text": [
      "Index(['Age', 'Gender', 'Polyuria', 'Polydipsia', 'WeightLoss', 'weakness',\n",
      "       'Polyphagia', 'GenitalThrush', 'VisualBlurring', 'Itching',\n",
      "       'Irritability', 'DelayedHealing', 'PartialParesis', 'MuscleStiffness',\n",
      "       'Alopecia', 'Obesity', 'y', 'Polyuria_0', 'Polyuria_1', 'Polydipsia_0',\n",
      "       'Polydipsia_1'],\n",
      "      dtype='object')\n"
     ]
    }
   ],
   "source": [
    "print(data.columns)"
   ]
  },
  {
   "cell_type": "code",
   "execution_count": 40,
   "metadata": {},
   "outputs": [],
   "source": [
    "cols=['Age', 'Gender', 'WeightLoss', 'weakness',\n",
    "       'Polyphagia', 'GenitalThrush', 'VisualBlurring', 'Itching',\n",
    "       'Irritability', 'DelayedHealing', 'PartialParesis', 'MuscleStiffness',\n",
    "       'Alopecia', 'Obesity','Polyuria_0', 'Polyuria_1','Polydipsia_0',\n",
    "       'Polydipsia_1'] \n",
    "\n",
    "X=os_data_X[cols]\n",
    "y=os_data_y['y']"
   ]
  },
  {
   "cell_type": "markdown",
   "metadata": {},
   "source": [
    "### Implementing the model\n"
   ]
  },
  {
   "cell_type": "code",
   "execution_count": 45,
   "metadata": {},
   "outputs": [
    {
     "name": "stdout",
     "output_type": "stream",
     "text": [
      "Optimization terminated successfully.\n",
      "         Current function value: 0.143818\n",
      "         Iterations 10\n",
      "                         Results: Logit\n",
      "=================================================================\n",
      "Model:              Logit            Pseudo R-squared: 0.793     \n",
      "Dependent Variable: y                AIC:              166.0111  \n",
      "Date:               2021-02-05 09:07 BIC:              240.0573  \n",
      "No. Observations:   452              Log-Likelihood:   -65.006   \n",
      "Df Model:           17               LL-Null:          -313.30   \n",
      "Df Residuals:       434              LLR p-value:      9.8706e-95\n",
      "Converged:          1.0000           Scale:            1.0000    \n",
      "No. Iterations:     10.0000                                      \n",
      "-----------------------------------------------------------------\n",
      "                   Coef.  Std.Err.    z    P>|z|   [0.025  0.975]\n",
      "-----------------------------------------------------------------\n",
      "Age               -0.0579   0.0276 -2.0999 0.0357 -0.1119 -0.0039\n",
      "Gender             4.8246   0.7154  6.7436 0.0000  3.4224  6.2268\n",
      "WeightLoss         0.3218   0.7416  0.4340 0.6643 -1.1317  1.7753\n",
      "weakness           0.6361   0.7160  0.8884 0.3743 -0.7672  2.0394\n",
      "Polyphagia         0.9336   0.6155  1.5169 0.1293 -0.2727  2.1399\n",
      "GenitalThrush      2.1386   0.6530  3.2751 0.0011  0.8588  3.4184\n",
      "VisualBlurring     0.2485   0.7835  0.3172 0.7511 -1.2872  1.7842\n",
      "Itching           -2.4227   0.7441 -3.2558 0.0011 -3.8811 -0.9642\n",
      "Irritability       2.7837   0.7567  3.6785 0.0002  1.3005  4.2669\n",
      "DelayedHealing    -0.4634   0.6829 -0.6785 0.4974 -1.8019  0.8751\n",
      "PartialParesis     1.1543   0.7037  1.6402 0.1010 -0.2251  2.5336\n",
      "MuscleStiffness   -0.0647   0.6717 -0.0963 0.9233 -1.3812  1.2519\n",
      "Alopecia           0.0545   0.7265  0.0750 0.9402 -1.3694  1.4783\n",
      "Obesity           -0.2218   0.6517 -0.3404 0.7335 -1.4991  1.0554\n",
      "Polyuria_0        -1.4265   2.5548 -0.5584 0.5766 -6.4339  3.5809\n",
      "Polyuria_1         3.1927   2.6657  1.1977 0.2310 -2.0320  8.4175\n",
      "Polydipsia_0      -0.5120   2.5887 -0.1978 0.8432 -5.5858  4.5618\n",
      "Polydipsia_1       5.2447   2.7223  1.9266 0.0540 -0.0908 10.5802\n",
      "=================================================================\n",
      "\n"
     ]
    }
   ],
   "source": [
    "logit_model=sm.Logit(y,X)\n",
    "result=logit_model.fit()\n",
    "print(result.summary2())"
   ]
  },
  {
   "cell_type": "markdown",
   "metadata": {},
   "source": [
    "### Insight\n",
    "\n",
    "- Results Logit:\n",
    "- Coef.:\n",
    "- Std.Err:\n",
    "- z:\n",
    "- P>|z|:\n",
    "- [0.025 0.975]\n",
    "\n",
    "Source: https://towardsdatascience.com/building-a-logistic-regression-in-python-step-by-step-becd4d56c9c8\n"
   ]
  }
 ],
 "metadata": {
  "kernelspec": {
   "display_name": "Python [conda env:env_pytorch] *",
   "language": "python",
   "name": "conda-env-env_pytorch-py"
  },
  "language_info": {
   "codemirror_mode": {
    "name": "ipython",
    "version": 3
   },
   "file_extension": ".py",
   "mimetype": "text/x-python",
   "name": "python",
   "nbconvert_exporter": "python",
   "pygments_lexer": "ipython3",
   "version": "3.6.12"
  }
 },
 "nbformat": 4,
 "nbformat_minor": 4
}
